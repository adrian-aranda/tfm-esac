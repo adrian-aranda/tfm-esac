{
 "cells": [
  {
   "cell_type": "code",
   "execution_count": 50,
   "metadata": {},
   "outputs": [],
   "source": [
    "import glob\n",
    "import os\n",
    "import numpy as np\n",
    "import subprocess\n",
    "import sys\n",
    "\n",
    "from astropy.io import fits\n",
    "from astropy.wcs import WCS, utils\n",
    "from astropy.coordinates import SkyCoord\n",
    "from astropy import units as u\n",
    "\n",
    "from photutils import SkyCircularAnnulus, SkyCircularAperture, aperture_photometry\n",
    "from regions import CircleSkyRegion\n",
    "\n",
    "import matplotlib.pylab as plt\n",
    "%matplotlib inline\n",
    "\n",
    "from matplotlib.colors import LogNorm"
   ]
  },
  {
   "cell_type": "code",
   "execution_count": 2,
   "metadata": {},
   "outputs": [
    {
     "name": "stdout",
     "output_type": "stream",
     "text": [
      "sasversion:- Executing (routine): sasversion  -w 1 -V 4\n",
      "sasversion:- sasversion (sasversion-1.3)  [xmmsas_20190531_1155-18.0.0] started:  2020-06-12T09:31:36.000\n",
      "sasversion:- XMM-Newton SAS release and build information:\n",
      "\n",
      "SAS release: xmmsas_20190531_1155-18.0.0\n",
      "Compiled on: Sun Jun  2 14:11:18 CEST 2019\n",
      "Compiled by: sasbuild@sasbld03n\n",
      "Platform   : Ubuntu16.04 64\n",
      "\n",
      "SAS-related environment variables that are set:\n",
      "\n",
      "SAS_DIR = /home/aaranda/SAS/sas_18.0.0-Ubuntu16.04-64/xmmsas_20190531_1155\n",
      "SAS_PATH = /home/aaranda/SAS/sas_18.0.0-Ubuntu16.04-64/xmmsas_20190531_1155\n",
      "SAS_CCFPATH = /home/aaranda/SAS/sas_18.0.0-Ubuntu16.04-64/xmmsas_20190531_1155/calibration\n",
      "\n",
      "sasversion:- sasversion (sasversion-1.3)  [xmmsas_20190531_1155-18.0.0] ended:    2020-06-12T09:31:36.000\n",
      "/home/aaranda/SAS/sas_18.0.0-Ubuntu16.04-64/xmmsas_20190531_1155/lib/perl5 /etc/perl /usr/local/lib/x86_64-linux-gnu/perl/5.26.1 /usr/local/share/perl/5.26.1 /usr/lib/x86_64-linux-gnu/perl5/5.26 /usr/share/perl5 /usr/lib/x86_64-linux-gnu/perl/5.26 /usr/share/perl/5.26 /usr/local/lib/site_perl /usr/lib/x86_64-linux-gnu/perl-base"
     ]
    }
   ],
   "source": [
    "sas_dir = \"/home/aaranda/SAS/sas_18.0.0-Ubuntu16.04-64/xmmsas_20190531_1155\"\n",
    "os.environ[\"SAS_DIR\"] = sas_dir\n",
    "os.environ[\"SAS_PATH\"] = os.environ[\"SAS_DIR\"]\n",
    "os.environ[\"SAS_VERBOSITY\"] = \"4\"\n",
    "os.environ[\"SAS_SUPPRESS_WARNING\"] = \"1\"\n",
    "path = os.environ[\"PATH\"]\n",
    "os.environ[\"PATH\"] = f\"{sas_dir}/bin:{sas_dir}/binextra:{path}\"\n",
    "if \"LD_LIBRARY_PATH\" in os.environ.keys():\n",
    "    ld_path = os.environ[\"LD_LIBRARY_PATH\"]\n",
    "# lib_path = f\"{sas_dir}/lib:{sas_dir}/libextra:{sas_dir}/libsys:{ld_path}\"\n",
    "lib_path = f\"{sas_dir}/lib:{sas_dir}/libextra:{sas_dir}\"\n",
    "os.environ[\"LD_LIBRARY_PATH\"] = lib_path\n",
    "os.environ[\"PERL5LIB\"] = \"{}/lib/perl5\".format(sas_dir)\n",
    "os.environ['SAS_CCFPATH'] = \"/home/aaranda/SAS/sas_18.0.0-Ubuntu16.04-64/xmmsas_20190531_1155/calibration\"\n",
    "!sasversion\n",
    "!perl -e \"print qq(@INC)\""
   ]
  },
  {
   "cell_type": "code",
   "execution_count": 3,
   "metadata": {},
   "outputs": [],
   "source": [
    "def exec_task(task, verbose=True):\n",
    "    try:\n",
    "        # Write the shell output to tmp.log file.\n",
    "        fout = open(\"tmp.log\", \"w\")\n",
    "        result = subprocess.run(task, shell=True, stdout=fout, stderr=subprocess.STDOUT)\n",
    "        retcode = result.returncode\n",
    "        fout.close()\n",
    "        if retcode < 0:\n",
    "            if (verbose):\n",
    "                print(f\"Execution of {task} was terminated by code {-retcode}.\", file=sys.stderr)\n",
    "        else:\n",
    "            if (verbose):\n",
    "                print(f\"Execution of {task} returned {retcode}.\", file=sys.stderr)\n",
    "    except OSError as e:\n",
    "        print(f\"Execution of {task} failed:\", e, file=sys.stderr)\n",
    "    return retcode"
   ]
  },
  {
   "cell_type": "code",
   "execution_count": 4,
   "metadata": {},
   "outputs": [],
   "source": [
    "def get_coords(odf_dir):\n",
    "    logs_list = glob.glob(\"{}/logs/rad_prof*\".format(odf_dir))\n",
    "    aux = False\n",
    "    aux_r = []\n",
    "    circle = \"\"\n",
    "    for log in logs_list:\n",
    "        if not aux:\n",
    "            with open(log, \"r\") as f:\n",
    "                for line in f:\n",
    "                    if \"CIRCLE: \" in line:\n",
    "                        #circle = line.split(\" \")[1]\n",
    "                        circle = line.split(\"- \")[1].split(\" \")[1]\n",
    "                        #print(circle)\n",
    "                if circle != \"\":\n",
    "                    aux_r.append(float(circle.split(',')[2]))\n",
    "                    #aux = True\n",
    "    RA = float(circle.split(',')[0])\n",
    "    DEC = float(circle.split(',')[1])\n",
    "    r = max(aux_r)\n",
    "    print(RA, DEC, r)\n",
    "    return [RA, DEC, r]"
   ]
  },
  {
   "cell_type": "code",
   "execution_count": 5,
   "metadata": {},
   "outputs": [],
   "source": [
    "def get_outoftime_evts():\n",
    "    bll_catalog = fits.open('/home/aaranda/tfm/bllacs_TFM_Adrian.fits')\n",
    "    data = bll_catalog[1].data\n",
    "    OutOfTime_list = []\n",
    "    for row in data:\n",
    "        if row[8] == 'SI':\n",
    "            OutOfTime_list.append(row[4])\n",
    "    return OutOfTime_list"
   ]
  },
  {
   "cell_type": "code",
   "execution_count": 46,
   "metadata": {},
   "outputs": [
    {
     "name": "stdout",
     "output_type": "stream",
     "text": [
      "['0721890101', '0084140101', '0084140501', '0604210201', '0604210301', '0152900201', '0123100201', '0830190501', '0303820301', '0112830201', '0112830501', '0104860501', '0124900101', '0790380501', '0790380601', '0790380801', '0790381401', '0790381501', '0790380901', '0761100101', '0761100201', '0761100301', '0761100401', '0761101001']\n"
     ]
    }
   ],
   "source": [
    "obsid_list = get_outoftime_evts()\n",
    "print(obsid_list)"
   ]
  },
  {
   "cell_type": "code",
   "execution_count": 59,
   "metadata": {},
   "outputs": [
    {
     "name": "stdout",
     "output_type": "stream",
     "text": [
      "32.1592 35.3869 0.03333333333333333\n",
      "[32.1592, 35.3869, 0.03333333333333333]\n",
      "339.06956165189257 346.43267548442464\n",
      "985\n"
     ]
    }
   ],
   "source": [
    "wdir = \"/home/aaranda/tfm/obsid\"\n",
    "bll_catalog = fits.open('/home/aaranda/tfm/bllacs_PN_NopileupNofasttiming.fits')\n",
    "obsid = '0084140101'\n",
    "odf_dir = \"{}/{}\".format(wdir, obsid)\n",
    "fitsfile = '{}/images/image_filtered_low.fits'.format(odf_dir)\n",
    "\n",
    "qhdu = fits.open(fitsfile)\n",
    "data = qhdu[0].data\n",
    "wcs = WCS(qhdu[0].header)\n",
    "coords = get_coords(odf_dir)\n",
    "print(coords)\n",
    "center = SkyCoord(coords[0], coords[1], unit=(u.deg, u.deg), frame='icrs')\n",
    "\n",
    "py, px = wcs.wcs_world2pix(coords[0], coords[1], 1)\n",
    "print('{0} {1}'.format(px, py))\n",
    "\n",
    "print(data[int(px), int(py)])"
   ]
  },
  {
   "cell_type": "code",
   "execution_count": 66,
   "metadata": {},
   "outputs": [
    {
     "name": "stdout",
     "output_type": "stream",
     "text": [
      "3.999999999999996\n",
      "60\n"
     ]
    }
   ],
   "source": [
    "pix_area = utils.proj_plane_pixel_area(wcs)\n",
    "print(np.sqrt(pix_area) * 3600)\n",
    "\n",
    "rad = 4 * 60\n",
    "pixels = int(rad / 4)\n",
    "print(pixels)\n",
    "\n",
    "x_inf = int(px)-pixels\n",
    "x_sup = int(px)+pixels\n",
    "y_inf = int(py)-pixels\n",
    "y_sup = int(py)+pixels"
   ]
  },
  {
   "cell_type": "code",
   "execution_count": 72,
   "metadata": {},
   "outputs": [
    {
     "data": {
      "image/png": "[encoded data removed]",
      "text/plain": [
       "<Figure size 432x288 with 2 Axes>"
      ]
     },
     "metadata": {
      "needs_background": "light"
     },
     "output_type": "display_data"
    }
   ],
   "source": [
    "plt.imshow(data[x_inf:x_sup, y_inf:y_sup], norm=LogNorm())\n",
    "#plt.imshow(data, norm=LogNorm())\n",
    "plt.colorbar()\n",
    "plt.show()"
   ]
  }
 ],
 "metadata": {
  "kernelspec": {
   "display_name": "Python 3",
   "language": "python",
   "name": "python3"
  },
  "language_info": {
   "codemirror_mode": {
    "name": "ipython",
    "version": 3
   },
   "file_extension": ".py",
   "mimetype": "text/x-python",
   "name": "python",
   "nbconvert_exporter": "python",
   "pygments_lexer": "ipython3",
   "version": "3.7.3"
  }
 },
 "nbformat": 4,
 "nbformat_minor": 4
}
