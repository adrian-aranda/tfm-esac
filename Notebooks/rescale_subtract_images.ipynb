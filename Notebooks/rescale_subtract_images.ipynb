{
 "cells": [
  {
   "cell_type": "code",
   "execution_count": 1,
   "metadata": {},
   "outputs": [],
   "source": [
    "import os\n",
    "import glob\n",
    "import subprocess\n",
    "import sys\n",
    "\n",
    "from astropy.io import fits"
   ]
  },
  {
   "cell_type": "code",
   "execution_count": 2,
   "metadata": {},
   "outputs": [],
   "source": [
    "def exec_task(task, verbose=True):\n",
    "    try:\n",
    "        # Write the shell output to tmp.log file.\n",
    "        fout = open(\"tmp.log\", \"w\")\n",
    "        result = subprocess.run(task, shell=True, stdout=fout, stderr=subprocess.STDOUT)\n",
    "        retcode = result.returncode\n",
    "        fout.close()\n",
    "        if retcode < 0:\n",
    "            if (verbose):\n",
    "                print(f\"Execution of {task} was terminated by code {-retcode}.\", file=sys.stderr)\n",
    "        else:\n",
    "            if (verbose):\n",
    "                print(f\"Execution of {task} returned {retcode}.\", file=sys.stderr)\n",
    "    except OSError as e:\n",
    "        print(f\"Execution of {task} failed:\", e, file=sys.stderr)\n",
    "    return retcode"
   ]
  },
  {
   "cell_type": "code",
   "execution_count": 8,
   "metadata": {},
   "outputs": [],
   "source": [
    "def get_outoftime_evts():\n",
    "    bll_catalog = fits.open('/home/aaranda/tfm/bllacs_TFM_Adrian.fits')\n",
    "    data = bll_catalog[1].data\n",
    "    OutOfTime_list = []\n",
    "    for row in data:\n",
    "        if row[8] == 'SI':\n",
    "            OutOfTime_list.append(row[4])\n",
    "    return OutOfTime_list"
   ]
  },
  {
   "cell_type": "code",
   "execution_count": 14,
   "metadata": {},
   "outputs": [],
   "source": [
    "def rescale_image():\n",
    "    if not os.path.isfile('PN_OoT_image_rescaled.fits'):\n",
    "        task = 'farith PN_OoT_image.fits 0.063 PN_OoT_image_rescaled.fits MUL'\n",
    "        status = exec_task(task)\n",
    "        if status != 0:\n",
    "            raise Exception"
   ]
  },
  {
   "cell_type": "code",
   "execution_count": 5,
   "metadata": {},
   "outputs": [],
   "source": [
    "def subtract_image(PN_observation_image, PN_observation_clean_image):\n",
    "    task = f'farith {PN_observation_image} PN_OoT_image_rescaled.fits {PN_observation_clean_image} SUB'\n",
    "    status = exec_task(task)\n",
    "    if status != 0:\n",
    "        raise Exception"
   ]
  },
  {
   "cell_type": "code",
   "execution_count": 15,
   "metadata": {},
   "outputs": [
    {
     "name": "stdout",
     "output_type": "stream",
     "text": [
      "/home/aaranda/tfm/obsid/0721890101/images/image_filtered_low.fits\n",
      "/home/aaranda/tfm/obsid/0721890101/images/image_filtered_low_clean.fits\n"
     ]
    },
    {
     "name": "stderr",
     "output_type": "stream",
     "text": [
      "Execution of farith /home/aaranda/tfm/obsid/0721890101/images/image_filtered_low.fits PN_OoT_image_rescaled.fits /home/aaranda/tfm/obsid/0721890101/images/image_filtered_low_clean.fits SUB returned 0.\n",
      "Execution of farith /home/aaranda/tfm/obsid/0721890101/images/image_filtered_mid.fits PN_OoT_image_rescaled.fits /home/aaranda/tfm/obsid/0721890101/images/image_filtered_mid_clean.fits SUB returned 0.\n",
      "Execution of farith /home/aaranda/tfm/obsid/0721890101/images/image_filtered_high.fits PN_OoT_image_rescaled.fits /home/aaranda/tfm/obsid/0721890101/images/image_filtered_high_clean.fits SUB returned 0.\n"
     ]
    },
    {
     "name": "stdout",
     "output_type": "stream",
     "text": [
      "/home/aaranda/tfm/obsid/0084140101/images/image_filtered_low.fits\n",
      "/home/aaranda/tfm/obsid/0084140101/images/image_filtered_low_clean.fits\n"
     ]
    },
    {
     "name": "stderr",
     "output_type": "stream",
     "text": [
      "Execution of farith /home/aaranda/tfm/obsid/0084140101/images/image_filtered_low.fits PN_OoT_image_rescaled.fits /home/aaranda/tfm/obsid/0084140101/images/image_filtered_low_clean.fits SUB returned 0.\n",
      "Execution of farith /home/aaranda/tfm/obsid/0084140101/images/image_filtered_mid.fits PN_OoT_image_rescaled.fits /home/aaranda/tfm/obsid/0084140101/images/image_filtered_mid_clean.fits SUB returned 0.\n",
      "Execution of farith /home/aaranda/tfm/obsid/0084140101/images/image_filtered_high.fits PN_OoT_image_rescaled.fits /home/aaranda/tfm/obsid/0084140101/images/image_filtered_high_clean.fits SUB returned 0.\n"
     ]
    },
    {
     "name": "stdout",
     "output_type": "stream",
     "text": [
      "/home/aaranda/tfm/obsid/0084140501/images/image_filtered_low.fits\n",
      "/home/aaranda/tfm/obsid/0084140501/images/image_filtered_low_clean.fits\n"
     ]
    },
    {
     "name": "stderr",
     "output_type": "stream",
     "text": [
      "Execution of farith /home/aaranda/tfm/obsid/0084140501/images/image_filtered_low.fits PN_OoT_image_rescaled.fits /home/aaranda/tfm/obsid/0084140501/images/image_filtered_low_clean.fits SUB returned 0.\n",
      "Execution of farith /home/aaranda/tfm/obsid/0084140501/images/image_filtered_mid.fits PN_OoT_image_rescaled.fits /home/aaranda/tfm/obsid/0084140501/images/image_filtered_mid_clean.fits SUB returned 0.\n",
      "Execution of farith /home/aaranda/tfm/obsid/0084140501/images/image_filtered_high.fits PN_OoT_image_rescaled.fits /home/aaranda/tfm/obsid/0084140501/images/image_filtered_high_clean.fits SUB returned 0.\n"
     ]
    },
    {
     "name": "stdout",
     "output_type": "stream",
     "text": [
      "/home/aaranda/tfm/obsid/0604210201/images/image_filtered_low.fits\n",
      "/home/aaranda/tfm/obsid/0604210201/images/image_filtered_low_clean.fits\n"
     ]
    },
    {
     "name": "stderr",
     "output_type": "stream",
     "text": [
      "Execution of farith /home/aaranda/tfm/obsid/0604210201/images/image_filtered_low.fits PN_OoT_image_rescaled.fits /home/aaranda/tfm/obsid/0604210201/images/image_filtered_low_clean.fits SUB returned 0.\n",
      "Execution of farith /home/aaranda/tfm/obsid/0604210201/images/image_filtered_mid.fits PN_OoT_image_rescaled.fits /home/aaranda/tfm/obsid/0604210201/images/image_filtered_mid_clean.fits SUB returned 0.\n",
      "Execution of farith /home/aaranda/tfm/obsid/0604210201/images/image_filtered_high.fits PN_OoT_image_rescaled.fits /home/aaranda/tfm/obsid/0604210201/images/image_filtered_high_clean.fits SUB returned 0.\n"
     ]
    },
    {
     "name": "stdout",
     "output_type": "stream",
     "text": [
      "/home/aaranda/tfm/obsid/0604210301/images/image_filtered_low.fits\n",
      "/home/aaranda/tfm/obsid/0604210301/images/image_filtered_low_clean.fits\n"
     ]
    },
    {
     "name": "stderr",
     "output_type": "stream",
     "text": [
      "Execution of farith /home/aaranda/tfm/obsid/0604210301/images/image_filtered_low.fits PN_OoT_image_rescaled.fits /home/aaranda/tfm/obsid/0604210301/images/image_filtered_low_clean.fits SUB returned 0.\n",
      "Execution of farith /home/aaranda/tfm/obsid/0604210301/images/image_filtered_mid.fits PN_OoT_image_rescaled.fits /home/aaranda/tfm/obsid/0604210301/images/image_filtered_mid_clean.fits SUB returned 0.\n",
      "Execution of farith /home/aaranda/tfm/obsid/0604210301/images/image_filtered_high.fits PN_OoT_image_rescaled.fits /home/aaranda/tfm/obsid/0604210301/images/image_filtered_high_clean.fits SUB returned 0.\n"
     ]
    },
    {
     "name": "stdout",
     "output_type": "stream",
     "text": [
      "/home/aaranda/tfm/obsid/0152900201/images/image_filtered_low.fits\n",
      "/home/aaranda/tfm/obsid/0152900201/images/image_filtered_low_clean.fits\n"
     ]
    },
    {
     "name": "stderr",
     "output_type": "stream",
     "text": [
      "Execution of farith /home/aaranda/tfm/obsid/0152900201/images/image_filtered_low.fits PN_OoT_image_rescaled.fits /home/aaranda/tfm/obsid/0152900201/images/image_filtered_low_clean.fits SUB returned 0.\n",
      "Execution of farith /home/aaranda/tfm/obsid/0152900201/images/image_filtered_mid.fits PN_OoT_image_rescaled.fits /home/aaranda/tfm/obsid/0152900201/images/image_filtered_mid_clean.fits SUB returned 0.\n",
      "Execution of farith /home/aaranda/tfm/obsid/0152900201/images/image_filtered_high.fits PN_OoT_image_rescaled.fits /home/aaranda/tfm/obsid/0152900201/images/image_filtered_high_clean.fits SUB returned 0.\n"
     ]
    },
    {
     "name": "stdout",
     "output_type": "stream",
     "text": [
      "/home/aaranda/tfm/obsid/0123100201/images/image_filtered_low.fits\n",
      "/home/aaranda/tfm/obsid/0123100201/images/image_filtered_low_clean.fits\n"
     ]
    },
    {
     "name": "stderr",
     "output_type": "stream",
     "text": [
      "Execution of farith /home/aaranda/tfm/obsid/0123100201/images/image_filtered_low.fits PN_OoT_image_rescaled.fits /home/aaranda/tfm/obsid/0123100201/images/image_filtered_low_clean.fits SUB returned 0.\n",
      "Execution of farith /home/aaranda/tfm/obsid/0123100201/images/image_filtered_mid.fits PN_OoT_image_rescaled.fits /home/aaranda/tfm/obsid/0123100201/images/image_filtered_mid_clean.fits SUB returned 0.\n",
      "Execution of farith /home/aaranda/tfm/obsid/0123100201/images/image_filtered_high.fits PN_OoT_image_rescaled.fits /home/aaranda/tfm/obsid/0123100201/images/image_filtered_high_clean.fits SUB returned 0.\n"
     ]
    },
    {
     "name": "stdout",
     "output_type": "stream",
     "text": [
      "/home/aaranda/tfm/obsid/0830190501/images/image_filtered_low.fits\n",
      "/home/aaranda/tfm/obsid/0830190501/images/image_filtered_low_clean.fits\n"
     ]
    },
    {
     "name": "stderr",
     "output_type": "stream",
     "text": [
      "Execution of farith /home/aaranda/tfm/obsid/0830190501/images/image_filtered_low.fits PN_OoT_image_rescaled.fits /home/aaranda/tfm/obsid/0830190501/images/image_filtered_low_clean.fits SUB returned 0.\n",
      "Execution of farith /home/aaranda/tfm/obsid/0830190501/images/image_filtered_mid.fits PN_OoT_image_rescaled.fits /home/aaranda/tfm/obsid/0830190501/images/image_filtered_mid_clean.fits SUB returned 0.\n",
      "Execution of farith /home/aaranda/tfm/obsid/0830190501/images/image_filtered_high.fits PN_OoT_image_rescaled.fits /home/aaranda/tfm/obsid/0830190501/images/image_filtered_high_clean.fits SUB returned 0.\n"
     ]
    },
    {
     "name": "stdout",
     "output_type": "stream",
     "text": [
      "/home/aaranda/tfm/obsid/0303820301/images/image_filtered_low.fits\n",
      "/home/aaranda/tfm/obsid/0303820301/images/image_filtered_low_clean.fits\n"
     ]
    },
    {
     "name": "stderr",
     "output_type": "stream",
     "text": [
      "Execution of farith /home/aaranda/tfm/obsid/0303820301/images/image_filtered_low.fits PN_OoT_image_rescaled.fits /home/aaranda/tfm/obsid/0303820301/images/image_filtered_low_clean.fits SUB returned 0.\n",
      "Execution of farith /home/aaranda/tfm/obsid/0303820301/images/image_filtered_mid.fits PN_OoT_image_rescaled.fits /home/aaranda/tfm/obsid/0303820301/images/image_filtered_mid_clean.fits SUB returned 0.\n",
      "Execution of farith /home/aaranda/tfm/obsid/0303820301/images/image_filtered_high.fits PN_OoT_image_rescaled.fits /home/aaranda/tfm/obsid/0303820301/images/image_filtered_high_clean.fits SUB returned 0.\n"
     ]
    },
    {
     "name": "stdout",
     "output_type": "stream",
     "text": [
      "/home/aaranda/tfm/obsid/0112830201/images/image_filtered_low.fits\n",
      "/home/aaranda/tfm/obsid/0112830201/images/image_filtered_low_clean.fits\n"
     ]
    },
    {
     "name": "stderr",
     "output_type": "stream",
     "text": [
      "Execution of farith /home/aaranda/tfm/obsid/0112830201/images/image_filtered_low.fits PN_OoT_image_rescaled.fits /home/aaranda/tfm/obsid/0112830201/images/image_filtered_low_clean.fits SUB returned 0.\n",
      "Execution of farith /home/aaranda/tfm/obsid/0112830201/images/image_filtered_mid.fits PN_OoT_image_rescaled.fits /home/aaranda/tfm/obsid/0112830201/images/image_filtered_mid_clean.fits SUB returned 0.\n",
      "Execution of farith /home/aaranda/tfm/obsid/0112830201/images/image_filtered_high.fits PN_OoT_image_rescaled.fits /home/aaranda/tfm/obsid/0112830201/images/image_filtered_high_clean.fits SUB returned 0.\n"
     ]
    },
    {
     "name": "stdout",
     "output_type": "stream",
     "text": [
      "/home/aaranda/tfm/obsid/0112830501/images/image_filtered_low.fits\n",
      "/home/aaranda/tfm/obsid/0112830501/images/image_filtered_low_clean.fits\n"
     ]
    },
    {
     "name": "stderr",
     "output_type": "stream",
     "text": [
      "Execution of farith /home/aaranda/tfm/obsid/0112830501/images/image_filtered_low.fits PN_OoT_image_rescaled.fits /home/aaranda/tfm/obsid/0112830501/images/image_filtered_low_clean.fits SUB returned 0.\n",
      "Execution of farith /home/aaranda/tfm/obsid/0112830501/images/image_filtered_mid.fits PN_OoT_image_rescaled.fits /home/aaranda/tfm/obsid/0112830501/images/image_filtered_mid_clean.fits SUB returned 0.\n",
      "Execution of farith /home/aaranda/tfm/obsid/0112830501/images/image_filtered_high.fits PN_OoT_image_rescaled.fits /home/aaranda/tfm/obsid/0112830501/images/image_filtered_high_clean.fits SUB returned 0.\n"
     ]
    },
    {
     "name": "stdout",
     "output_type": "stream",
     "text": [
      "/home/aaranda/tfm/obsid/0104860501/images/image_filtered_low.fits\n",
      "/home/aaranda/tfm/obsid/0104860501/images/image_filtered_low_clean.fits\n"
     ]
    },
    {
     "name": "stderr",
     "output_type": "stream",
     "text": [
      "Execution of farith /home/aaranda/tfm/obsid/0104860501/images/image_filtered_low.fits PN_OoT_image_rescaled.fits /home/aaranda/tfm/obsid/0104860501/images/image_filtered_low_clean.fits SUB returned 0.\n",
      "Execution of farith /home/aaranda/tfm/obsid/0104860501/images/image_filtered_mid.fits PN_OoT_image_rescaled.fits /home/aaranda/tfm/obsid/0104860501/images/image_filtered_mid_clean.fits SUB returned 0.\n",
      "Execution of farith /home/aaranda/tfm/obsid/0104860501/images/image_filtered_high.fits PN_OoT_image_rescaled.fits /home/aaranda/tfm/obsid/0104860501/images/image_filtered_high_clean.fits SUB returned 0.\n"
     ]
    },
    {
     "name": "stdout",
     "output_type": "stream",
     "text": [
      "/home/aaranda/tfm/obsid/0124900101/images/image_filtered_low.fits\n",
      "/home/aaranda/tfm/obsid/0124900101/images/image_filtered_low_clean.fits\n"
     ]
    },
    {
     "name": "stderr",
     "output_type": "stream",
     "text": [
      "Execution of farith /home/aaranda/tfm/obsid/0124900101/images/image_filtered_low.fits PN_OoT_image_rescaled.fits /home/aaranda/tfm/obsid/0124900101/images/image_filtered_low_clean.fits SUB returned 0.\n",
      "Execution of farith /home/aaranda/tfm/obsid/0124900101/images/image_filtered_mid.fits PN_OoT_image_rescaled.fits /home/aaranda/tfm/obsid/0124900101/images/image_filtered_mid_clean.fits SUB returned 0.\n",
      "Execution of farith /home/aaranda/tfm/obsid/0124900101/images/image_filtered_high.fits PN_OoT_image_rescaled.fits /home/aaranda/tfm/obsid/0124900101/images/image_filtered_high_clean.fits SUB returned 0.\n"
     ]
    },
    {
     "name": "stdout",
     "output_type": "stream",
     "text": [
      "/home/aaranda/tfm/obsid/0790380501/images/image_filtered_low.fits\n",
      "/home/aaranda/tfm/obsid/0790380501/images/image_filtered_low_clean.fits\n"
     ]
    },
    {
     "name": "stderr",
     "output_type": "stream",
     "text": [
      "Execution of farith /home/aaranda/tfm/obsid/0790380501/images/image_filtered_low.fits PN_OoT_image_rescaled.fits /home/aaranda/tfm/obsid/0790380501/images/image_filtered_low_clean.fits SUB returned 0.\n",
      "Execution of farith /home/aaranda/tfm/obsid/0790380501/images/image_filtered_mid.fits PN_OoT_image_rescaled.fits /home/aaranda/tfm/obsid/0790380501/images/image_filtered_mid_clean.fits SUB returned 0.\n",
      "Execution of farith /home/aaranda/tfm/obsid/0790380501/images/image_filtered_high.fits PN_OoT_image_rescaled.fits /home/aaranda/tfm/obsid/0790380501/images/image_filtered_high_clean.fits SUB returned 0.\n"
     ]
    },
    {
     "name": "stdout",
     "output_type": "stream",
     "text": [
      "/home/aaranda/tfm/obsid/0790380601/images/image_filtered_low.fits\n",
      "/home/aaranda/tfm/obsid/0790380601/images/image_filtered_low_clean.fits\n"
     ]
    },
    {
     "name": "stderr",
     "output_type": "stream",
     "text": [
      "Execution of farith /home/aaranda/tfm/obsid/0790380601/images/image_filtered_low.fits PN_OoT_image_rescaled.fits /home/aaranda/tfm/obsid/0790380601/images/image_filtered_low_clean.fits SUB returned 0.\n",
      "Execution of farith /home/aaranda/tfm/obsid/0790380601/images/image_filtered_mid.fits PN_OoT_image_rescaled.fits /home/aaranda/tfm/obsid/0790380601/images/image_filtered_mid_clean.fits SUB returned 0.\n",
      "Execution of farith /home/aaranda/tfm/obsid/0790380601/images/image_filtered_high.fits PN_OoT_image_rescaled.fits /home/aaranda/tfm/obsid/0790380601/images/image_filtered_high_clean.fits SUB returned 0.\n"
     ]
    },
    {
     "name": "stdout",
     "output_type": "stream",
     "text": [
      "/home/aaranda/tfm/obsid/0790380801/images/image_filtered_low.fits\n",
      "/home/aaranda/tfm/obsid/0790380801/images/image_filtered_low_clean.fits\n"
     ]
    },
    {
     "name": "stderr",
     "output_type": "stream",
     "text": [
      "Execution of farith /home/aaranda/tfm/obsid/0790380801/images/image_filtered_low.fits PN_OoT_image_rescaled.fits /home/aaranda/tfm/obsid/0790380801/images/image_filtered_low_clean.fits SUB returned 0.\n",
      "Execution of farith /home/aaranda/tfm/obsid/0790380801/images/image_filtered_mid.fits PN_OoT_image_rescaled.fits /home/aaranda/tfm/obsid/0790380801/images/image_filtered_mid_clean.fits SUB returned 0.\n",
      "Execution of farith /home/aaranda/tfm/obsid/0790380801/images/image_filtered_high.fits PN_OoT_image_rescaled.fits /home/aaranda/tfm/obsid/0790380801/images/image_filtered_high_clean.fits SUB returned 0.\n"
     ]
    },
    {
     "name": "stdout",
     "output_type": "stream",
     "text": [
      "/home/aaranda/tfm/obsid/0790381401/images/image_filtered_low.fits\n",
      "/home/aaranda/tfm/obsid/0790381401/images/image_filtered_low_clean.fits\n"
     ]
    },
    {
     "name": "stderr",
     "output_type": "stream",
     "text": [
      "Execution of farith /home/aaranda/tfm/obsid/0790381401/images/image_filtered_low.fits PN_OoT_image_rescaled.fits /home/aaranda/tfm/obsid/0790381401/images/image_filtered_low_clean.fits SUB returned 0.\n",
      "Execution of farith /home/aaranda/tfm/obsid/0790381401/images/image_filtered_mid.fits PN_OoT_image_rescaled.fits /home/aaranda/tfm/obsid/0790381401/images/image_filtered_mid_clean.fits SUB returned 0.\n",
      "Execution of farith /home/aaranda/tfm/obsid/0790381401/images/image_filtered_high.fits PN_OoT_image_rescaled.fits /home/aaranda/tfm/obsid/0790381401/images/image_filtered_high_clean.fits SUB returned 0.\n"
     ]
    },
    {
     "name": "stdout",
     "output_type": "stream",
     "text": [
      "/home/aaranda/tfm/obsid/0790381501/images/image_filtered_low.fits\n",
      "/home/aaranda/tfm/obsid/0790381501/images/image_filtered_low_clean.fits\n"
     ]
    },
    {
     "name": "stderr",
     "output_type": "stream",
     "text": [
      "Execution of farith /home/aaranda/tfm/obsid/0790381501/images/image_filtered_low.fits PN_OoT_image_rescaled.fits /home/aaranda/tfm/obsid/0790381501/images/image_filtered_low_clean.fits SUB returned 0.\n",
      "Execution of farith /home/aaranda/tfm/obsid/0790381501/images/image_filtered_mid.fits PN_OoT_image_rescaled.fits /home/aaranda/tfm/obsid/0790381501/images/image_filtered_mid_clean.fits SUB returned 0.\n",
      "Execution of farith /home/aaranda/tfm/obsid/0790381501/images/image_filtered_high.fits PN_OoT_image_rescaled.fits /home/aaranda/tfm/obsid/0790381501/images/image_filtered_high_clean.fits SUB returned 0.\n"
     ]
    },
    {
     "name": "stdout",
     "output_type": "stream",
     "text": [
      "/home/aaranda/tfm/obsid/0790380901/images/image_filtered_low.fits\n",
      "/home/aaranda/tfm/obsid/0790380901/images/image_filtered_low_clean.fits\n"
     ]
    },
    {
     "name": "stderr",
     "output_type": "stream",
     "text": [
      "Execution of farith /home/aaranda/tfm/obsid/0790380901/images/image_filtered_low.fits PN_OoT_image_rescaled.fits /home/aaranda/tfm/obsid/0790380901/images/image_filtered_low_clean.fits SUB returned 0.\n",
      "Execution of farith /home/aaranda/tfm/obsid/0790380901/images/image_filtered_mid.fits PN_OoT_image_rescaled.fits /home/aaranda/tfm/obsid/0790380901/images/image_filtered_mid_clean.fits SUB returned 0.\n",
      "Execution of farith /home/aaranda/tfm/obsid/0790380901/images/image_filtered_high.fits PN_OoT_image_rescaled.fits /home/aaranda/tfm/obsid/0790380901/images/image_filtered_high_clean.fits SUB returned 0.\n"
     ]
    },
    {
     "name": "stdout",
     "output_type": "stream",
     "text": [
      "/home/aaranda/tfm/obsid/0761100101/images/image_filtered_low.fits\n",
      "/home/aaranda/tfm/obsid/0761100101/images/image_filtered_low_clean.fits\n"
     ]
    },
    {
     "name": "stderr",
     "output_type": "stream",
     "text": [
      "Execution of farith /home/aaranda/tfm/obsid/0761100101/images/image_filtered_low.fits PN_OoT_image_rescaled.fits /home/aaranda/tfm/obsid/0761100101/images/image_filtered_low_clean.fits SUB returned 0.\n",
      "Execution of farith /home/aaranda/tfm/obsid/0761100101/images/image_filtered_mid.fits PN_OoT_image_rescaled.fits /home/aaranda/tfm/obsid/0761100101/images/image_filtered_mid_clean.fits SUB returned 0.\n",
      "Execution of farith /home/aaranda/tfm/obsid/0761100101/images/image_filtered_high.fits PN_OoT_image_rescaled.fits /home/aaranda/tfm/obsid/0761100101/images/image_filtered_high_clean.fits SUB returned 0.\n",
      "Execution of farith /home/aaranda/tfm/obsid/0761100201/images/image_filtered_low.fits PN_OoT_image_rescaled.fits /home/aaranda/tfm/obsid/0761100201/images/image_filtered_low_clean.fits SUB returned 0.\n",
      "Execution of farith /home/aaranda/tfm/obsid/0761100201/images/image_filtered_mid.fits PN_OoT_image_rescaled.fits /home/aaranda/tfm/obsid/0761100201/images/image_filtered_mid_clean.fits SUB returned 0.\n"
     ]
    },
    {
     "name": "stdout",
     "output_type": "stream",
     "text": [
      "/home/aaranda/tfm/obsid/0761100201/images/image_filtered_low.fits\n",
      "/home/aaranda/tfm/obsid/0761100201/images/image_filtered_low_clean.fits\n"
     ]
    },
    {
     "name": "stderr",
     "output_type": "stream",
     "text": [
      "Execution of farith /home/aaranda/tfm/obsid/0761100201/images/image_filtered_high.fits PN_OoT_image_rescaled.fits /home/aaranda/tfm/obsid/0761100201/images/image_filtered_high_clean.fits SUB returned 0.\n",
      "Execution of farith /home/aaranda/tfm/obsid/0761100301/images/image_filtered_low.fits PN_OoT_image_rescaled.fits /home/aaranda/tfm/obsid/0761100301/images/image_filtered_low_clean.fits SUB returned 0.\n",
      "Execution of farith /home/aaranda/tfm/obsid/0761100301/images/image_filtered_mid.fits PN_OoT_image_rescaled.fits /home/aaranda/tfm/obsid/0761100301/images/image_filtered_mid_clean.fits SUB returned 0.\n"
     ]
    },
    {
     "name": "stdout",
     "output_type": "stream",
     "text": [
      "/home/aaranda/tfm/obsid/0761100301/images/image_filtered_low.fits\n",
      "/home/aaranda/tfm/obsid/0761100301/images/image_filtered_low_clean.fits\n",
      "/home/aaranda/tfm/obsid/0761100401/images/image_filtered_low.fits\n",
      "/home/aaranda/tfm/obsid/0761100401/images/image_filtered_low_clean.fits\n"
     ]
    },
    {
     "name": "stderr",
     "output_type": "stream",
     "text": [
      "Execution of farith /home/aaranda/tfm/obsid/0761100301/images/image_filtered_high.fits PN_OoT_image_rescaled.fits /home/aaranda/tfm/obsid/0761100301/images/image_filtered_high_clean.fits SUB returned 0.\n",
      "Execution of farith /home/aaranda/tfm/obsid/0761100401/images/image_filtered_low.fits PN_OoT_image_rescaled.fits /home/aaranda/tfm/obsid/0761100401/images/image_filtered_low_clean.fits SUB returned 0.\n",
      "Execution of farith /home/aaranda/tfm/obsid/0761100401/images/image_filtered_mid.fits PN_OoT_image_rescaled.fits /home/aaranda/tfm/obsid/0761100401/images/image_filtered_mid_clean.fits SUB returned 0.\n",
      "Execution of farith /home/aaranda/tfm/obsid/0761100401/images/image_filtered_high.fits PN_OoT_image_rescaled.fits /home/aaranda/tfm/obsid/0761100401/images/image_filtered_high_clean.fits SUB returned 0.\n"
     ]
    },
    {
     "name": "stdout",
     "output_type": "stream",
     "text": [
      "/home/aaranda/tfm/obsid/0761101001/images/image_filtered_low.fits\n",
      "/home/aaranda/tfm/obsid/0761101001/images/image_filtered_low_clean.fits\n",
      "[]\n"
     ]
    },
    {
     "name": "stderr",
     "output_type": "stream",
     "text": [
      "Execution of farith /home/aaranda/tfm/obsid/0761101001/images/image_filtered_low.fits PN_OoT_image_rescaled.fits /home/aaranda/tfm/obsid/0761101001/images/image_filtered_low_clean.fits SUB returned 0.\n",
      "Execution of farith /home/aaranda/tfm/obsid/0761101001/images/image_filtered_mid.fits PN_OoT_image_rescaled.fits /home/aaranda/tfm/obsid/0761101001/images/image_filtered_mid_clean.fits SUB returned 0.\n",
      "Execution of farith /home/aaranda/tfm/obsid/0761101001/images/image_filtered_high.fits PN_OoT_image_rescaled.fits /home/aaranda/tfm/obsid/0761101001/images/image_filtered_high_clean.fits SUB returned 0.\n"
     ]
    }
   ],
   "source": [
    "wdir = \"/home/aaranda/tfm/obsid\"\n",
    "\n",
    "obsid_list = get_outoftime_evts()\n",
    "\n",
    "error_list = []\n",
    "for obsid in obsid_list:\n",
    "    try:\n",
    "        odf_dir = \"{}/{}\".format(wdir, obsid)\n",
    "        os.chdir(odf_dir)\n",
    "\n",
    "        PN_observation_image_low = glob.glob('{}/images/*low.fits'.format(odf_dir))[0]\n",
    "        PN_observation_image_mid = glob.glob('{}/images/*mid.fits'.format(odf_dir))[0]\n",
    "        PN_observation_image_high = glob.glob('{}/images/*high.fits'.format(odf_dir))[0]\n",
    "        PN_observation_clean_image_low = PN_observation_image_low.split('.')[0] + '_clean.fits'\n",
    "        PN_observation_clean_image_mid = PN_observation_image_mid.split('.')[0] + '_clean.fits'\n",
    "        PN_observation_clean_image_high = PN_observation_image_high.split('.')[0] + '_clean.fits'\n",
    "        print(PN_observation_image_low)\n",
    "        print(PN_observation_clean_image_low)\n",
    "\n",
    "        rescale_image()\n",
    "        subtract_image(PN_observation_image_low, PN_observation_clean_image_low)\n",
    "        subtract_image(PN_observation_image_mid, PN_observation_clean_image_mid)\n",
    "        subtract_image(PN_observation_image_high, PN_observation_clean_image_high)\n",
    "    except:\n",
    "        error_list.append(obsid)\n",
    "print(error_list)    "
   ]
  },
  {
   "cell_type": "code",
   "execution_count": 13,
   "metadata": {},
   "outputs": [
    {
     "name": "stdout",
     "output_type": "stream",
     "text": [
      "['0721890101', '0084140101', '0084140501', '0604210201', '0604210301', '0152900201', '0123100201', '0830190501', '0303820301', '0112830201', '0112830501', '0104860501', '0124900101', '0790380501', '0790380601', '0790380801', '0790381401', '0790381501', '0790380901', '0761100101', '0761100201', '0761100301', '0761100401', '0761101001']\n",
      "24\n"
     ]
    }
   ],
   "source": [
    "def get_outoftime_evts():\n",
    "    bll_catalog = fits.open('/home/aaranda/tfm/bllacs_TFM_Adrian.fits')\n",
    "    data = bll_catalog[1].data\n",
    "    OutOfTime_list = []\n",
    "    for row in data:\n",
    "        if row[8] == 'SI':\n",
    "            OutOfTime_list.append(row[4])\n",
    "    return OutOfTime_list\n",
    "\n",
    "obsid_list = get_outoftime_evts()\n",
    "print(obsid_list)\n",
    "print(len(obsid_list))"
   ]
  }
 ],
 "metadata": {
  "kernelspec": {
   "display_name": "Python 3",
   "language": "python",
   "name": "python3"
  },
  "language_info": {
   "codemirror_mode": {
    "name": "ipython",
    "version": 3
   },
   "file_extension": ".py",
   "mimetype": "text/x-python",
   "name": "python",
   "nbconvert_exporter": "python",
   "pygments_lexer": "ipython3",
   "version": "3.7.3"
  }
 },
 "nbformat": 4,
 "nbformat_minor": 4
}
