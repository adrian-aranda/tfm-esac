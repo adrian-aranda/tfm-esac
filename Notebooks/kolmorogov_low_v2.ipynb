{
 "cells": [
  {
   "cell_type": "code",
   "execution_count": 1,
   "metadata": {},
   "outputs": [],
   "source": [
    "from scipy import stats\n",
    "from astropy.io import fits\n",
    "from astropy.coordinates import SkyCoord\n",
    "from astropy import units as u\n",
    "from astropy.wcs import WCS, utils\n",
    "from photutils import SkyCircularAnnulus, SkyCircularAperture, aperture_photometry\n",
    "from regions import CircleSkyRegion\n",
    "import numpy as np\n",
    "\n",
    "import glob\n",
    "import os\n",
    "import subprocess\n",
    "import sys\n",
    "import csv"
   ]
  },
  {
   "cell_type": "code",
   "execution_count": 2,
   "metadata": {},
   "outputs": [
    {
     "name": "stdout",
     "output_type": "stream",
     "text": [
      "sasversion:- Executing (routine): sasversion  -w 1 -V 4\n",
      "sasversion:- sasversion (sasversion-1.3)  [xmmsas_20190531_1155-18.0.0] started:  2020-06-02T07:44:56.000\n",
      "sasversion:- XMM-Newton SAS release and build information:\n",
      "\n",
      "SAS release: xmmsas_20190531_1155-18.0.0\n",
      "Compiled on: Sun Jun  2 14:11:18 CEST 2019\n",
      "Compiled by: sasbuild@sasbld03n\n",
      "Platform   : Ubuntu16.04 64\n",
      "\n",
      "SAS-related environment variables that are set:\n",
      "\n",
      "SAS_DIR = /home/aaranda/SAS/sas_18.0.0-Ubuntu16.04-64/xmmsas_20190531_1155\n",
      "SAS_PATH = /home/aaranda/SAS/sas_18.0.0-Ubuntu16.04-64/xmmsas_20190531_1155\n",
      "SAS_CCFPATH = /home/aaranda/SAS/sas_18.0.0-Ubuntu16.04-64/xmmsas_20190531_1155/calibration\n",
      "\n",
      "sasversion:- sasversion (sasversion-1.3)  [xmmsas_20190531_1155-18.0.0] ended:    2020-06-02T07:44:56.000\n",
      "/home/aaranda/SAS/sas_18.0.0-Ubuntu16.04-64/xmmsas_20190531_1155/lib/perl5 /etc/perl /usr/local/lib/x86_64-linux-gnu/perl/5.26.1 /usr/local/share/perl/5.26.1 /usr/lib/x86_64-linux-gnu/perl5/5.26 /usr/share/perl5 /usr/lib/x86_64-linux-gnu/perl/5.26 /usr/share/perl/5.26 /usr/local/lib/site_perl /usr/lib/x86_64-linux-gnu/perl-base"
     ]
    }
   ],
   "source": [
    "sas_dir = \"/home/aaranda/SAS/sas_18.0.0-Ubuntu16.04-64/xmmsas_20190531_1155\"\n",
    "os.environ[\"SAS_DIR\"] = sas_dir\n",
    "os.environ[\"SAS_PATH\"] = os.environ[\"SAS_DIR\"]\n",
    "os.environ[\"SAS_VERBOSITY\"] = \"4\"\n",
    "os.environ[\"SAS_SUPPRESS_WARNING\"] = \"1\"\n",
    "path = os.environ[\"PATH\"]\n",
    "os.environ[\"PATH\"] = f\"{sas_dir}/bin:{sas_dir}/binextra:{path}\"\n",
    "if \"LD_LIBRARY_PATH\" in os.environ.keys():\n",
    "    ld_path = os.environ[\"LD_LIBRARY_PATH\"]\n",
    "# lib_path = f\"{sas_dir}/lib:{sas_dir}/libextra:{sas_dir}/libsys:{ld_path}\"\n",
    "lib_path = f\"{sas_dir}/lib:{sas_dir}/libextra:{sas_dir}\"\n",
    "os.environ[\"LD_LIBRARY_PATH\"] = lib_path\n",
    "os.environ[\"PERL5LIB\"] = \"{}/lib/perl5\".format(sas_dir)\n",
    "os.environ['SAS_CCFPATH'] = \"/home/aaranda/SAS/sas_18.0.0-Ubuntu16.04-64/xmmsas_20190531_1155/calibration\"\n",
    "!sasversion\n",
    "!perl -e \"print qq(@INC)\""
   ]
  },
  {
   "cell_type": "code",
   "execution_count": 3,
   "metadata": {},
   "outputs": [],
   "source": [
    "def exec_task(task, verbose=True):\n",
    "    try:\n",
    "        # Write the shell output to tmp.log file.\n",
    "        fout = open(\"tmp.log\", \"w\")\n",
    "        result = subprocess.run(task, shell=True, stdout=fout, stderr=subprocess.STDOUT)\n",
    "        retcode = result.returncode\n",
    "        fout.close()\n",
    "        if retcode < 0:\n",
    "            if (verbose):\n",
    "                print(f\"Execution of {task} was terminated by code {-retcode}.\", file=sys.stderr)\n",
    "        else:\n",
    "            if (verbose):\n",
    "                print(f\"Execution of {task} returned {retcode}.\", file=sys.stderr)\n",
    "    except OSError as e:\n",
    "        print(f\"Execution of {task} failed:\", e, file=sys.stderr)\n",
    "    return retcode"
   ]
  },
  {
   "cell_type": "code",
   "execution_count": 4,
   "metadata": {},
   "outputs": [],
   "source": [
    "def get_coords(odf_dir):\n",
    "    logs_list = glob.glob(\"{}/logs/rad_prof*\".format(odf_dir))\n",
    "    aux = False\n",
    "    aux_r = []\n",
    "    circle = \"\"\n",
    "    for log in logs_list:\n",
    "        if not aux:\n",
    "            with open(log, \"r\") as f:\n",
    "                for line in f:\n",
    "                    if \"CIRCLE: \" in line:\n",
    "                        #circle = line.split(\" \")[1]\n",
    "                        circle = line.split(\"- \")[1].split(\" \")[1]\n",
    "                        #print(circle)\n",
    "                if circle != \"\":\n",
    "                    aux_r.append(float(circle.split(',')[2]))\n",
    "                    #aux = True\n",
    "    RA = float(circle.split(',')[0])\n",
    "    DEC = float(circle.split(',')[1])\n",
    "    r = max(aux_r)\n",
    "    print(RA, DEC, r)\n",
    "    return [RA, DEC, r]"
   ]
  },
  {
   "cell_type": "code",
   "execution_count": 5,
   "metadata": {},
   "outputs": [],
   "source": [
    "def calc_radial_profile(fitsfile, center, rstart, rend, rstep, verbose=False, detmaskfile=None, plot=True):\n",
    "    \"\"\"\n",
    "\n",
    "    Utility function to calculate the radial profile from an image `fitsfile` at a `center`\n",
    "\n",
    "    \"\"\"\n",
    "    #\n",
    "    if (not os.path.isfile(fitsfile)):\n",
    "        print(f\"ERROR. FITS file {fitsfile} not found. Cannot continue.\")\n",
    "        return None\n",
    "    #\n",
    "    qhdu = fits.open(fitsfile)\n",
    "    wcs = WCS(qhdu[0].header)\n",
    "    #\n",
    "    # if detmaskfile is provided then will use it for detector mask\n",
    "    #\n",
    "    doMask = False\n",
    "    if (detmaskfile != None):\n",
    "        if (not os.path.isfile(detmaskfile)):\n",
    "            print(f\"Warning. Detector mask file {detmaskfile} not found. Will not use detector mask!\")\n",
    "            doMask = False\n",
    "        else:\n",
    "            det = fits.open(detmaskfile)\n",
    "            detmask = det['MASK']\n",
    "            # need the WCS\n",
    "            wcs_det = WCS(detmask.header)\n",
    "            doMask = True\n",
    "    #\n",
    "    if (not isinstance(center, SkyCoord)):\n",
    "        print(f\"EROOR: the input radial profile centre is not SkyCoord object. Cannot continue.\")\n",
    "        return None\n",
    "    #\n",
    "    j = 0\n",
    "    rx = rstart\n",
    "    counts = []\n",
    "    counts_err = []\n",
    "    rmid = []\n",
    "    #\n",
    "    emtpy = False\n",
    "    while rx < r_end:\n",
    "        r0 = rstart + rstep * j\n",
    "        rx = rstart + rstep * (j + 1)\n",
    "        # the mid point, can be better the mid area point\n",
    "        rmid.append((r0.value + rx.value) / 2.0)\n",
    "        if (j == 0):\n",
    "            xap = SkyCircularAperture(center, rx)\n",
    "            photo = aperture_photometry(qhdu[0].data, xap, wcs=wcs)\n",
    "            if (doMask):\n",
    "                masked = aperture_photometry(detmask.data, xap, wcs=wcs_det)\n",
    "        else:\n",
    "            xap = SkyCircularAnnulus(center, r0, rx)\n",
    "            photo = aperture_photometry(qhdu[0].data, xap, wcs=wcs)\n",
    "            if (doMask):\n",
    "                masked = aperture_photometry(detmask.data, xap, wcs=wcs_det)\n",
    "        #\n",
    "        ap_area = xap.to_pixel(wcs).area\n",
    "        good_area = ap_area\n",
    "        if (doMask):\n",
    "            good_area = masked['aperture_sum'][0]\n",
    "        # compare the two annuli areas: with and without bad pixels\n",
    "        if (verbose):\n",
    "            print(\n",
    "                f\"Annulus: {r0:.2f},{rx:.2f},geometric area: {ap_area:.1f} pixels,non-masked area {good_area:.1f} pixels, ratio: {ap_area / good_area:.2f}\")\n",
    "        # taking into account the masked pixels\n",
    "        if (good_area == 0.0):\n",
    "            counts.append(float('nan'))\n",
    "            counts_err.append(float('nan'))\n",
    "        else:\n",
    "            counts.append(photo['aperture_sum'][0] / good_area)\n",
    "            counts_err.append(np.sqrt(photo['aperture_sum'][0]) / good_area)\n",
    "\n",
    "        j += 1\n",
    "    #\n",
    "    # convert the results in numpy arrays\n",
    "    #\n",
    "    rmid = np.array(rmid)\n",
    "    counts = np.array(counts)\n",
    "    counts_err = np.array(counts_err)\n",
    "    #\n",
    "    # convert per pixel to per arcsec^2\n",
    "    pix_area = utils.proj_plane_pixel_area(wcs) * 3600.0 * 3600.0  # in arcsec^2\n",
    "    counts = counts / pix_area\n",
    "    counts_err = counts_err / pix_area\n",
    "    \n",
    "\n",
    "    return rmid, counts, counts_err"
   ]
  },
  {
   "cell_type": "code",
   "execution_count": 6,
   "metadata": {},
   "outputs": [],
   "source": [
    "def psf_gen(center, energy, box, psf_out):\n",
    "    psfgen = f'psfgen image={fits_image} withimage=yes instrument=PN level=ELLBETA energy={energy} ' + \\\n",
    "             f'x={center.ra.value} y={center.dec.value} coordtype=EQPOS xsize={box} ysize={box} output={psf_out}'\n",
    "    status = exec_task(psfgen)\n",
    "    if (status != 0):\n",
    "        raise RuntimeError"
   ]
  },
  {
   "cell_type": "code",
   "execution_count": 7,
   "metadata": {},
   "outputs": [
    {
     "name": "stdout",
     "output_type": "stream",
     "text": [
      "Executing 1 of 82...\n",
      "87.6688 -32.2711 0.03333333333333333\n"
     ]
    },
    {
     "name": "stderr",
     "output_type": "stream",
     "text": [
      "WARNING: FITSFixedWarning: RADECSYS= 'FK5 ' / World coord. system for this file \n",
      "the RADECSYS keyword is deprecated, use RADESYSa. [astropy.wcs.wcs]\n",
      "Execution of psfgen image=/home/aaranda/tfm/obsid/0142270101/images/image_filtered_low.fits withimage=yes instrument=PN level=ELLBETA energy=1000 x=87.6688 y=-32.2711 coordtype=EQPOS xsize=481 ysize=481 output=/home/aaranda/tfm/obsid/0142270101/psf_ellbeta_1000_481pix.fits returned 0.\n"
     ]
    },
    {
     "name": "stdout",
     "output_type": "stream",
     "text": [
      "0.175 0.5786001416508443\n",
      "Executing 2 of 82...\n",
      "133.7033 20.1083 0.03333333333333333\n"
     ]
    },
    {
     "name": "stderr",
     "output_type": "stream",
     "text": [
      "Execution of psfgen image=/home/aaranda/tfm/obsid/0300480201/images/image_filtered_low.fits withimage=yes instrument=PN level=ELLBETA energy=1000 x=133.7033 y=20.1083 coordtype=EQPOS xsize=481 ysize=481 output=/home/aaranda/tfm/obsid/0300480201/psf_ellbeta_1000_481pix.fits returned 0.\n"
     ]
    },
    {
     "name": "stdout",
     "output_type": "stream",
     "text": [
      "0.25 0.16497269950224194\n",
      "Executing 3 of 82...\n",
      "133.7033 20.1083 0.03333333333333333\n"
     ]
    },
    {
     "name": "stderr",
     "output_type": "stream",
     "text": [
      "Execution of psfgen image=/home/aaranda/tfm/obsid/0300480301/images/image_filtered_low.fits withimage=yes instrument=PN level=ELLBETA energy=1000 x=133.7033 y=20.1083 coordtype=EQPOS xsize=481 ysize=481 output=/home/aaranda/tfm/obsid/0300480301/psf_ellbeta_1000_481pix.fits returned 0.\n"
     ]
    },
    {
     "name": "stdout",
     "output_type": "stream",
     "text": [
      "0.175 0.5786001416508443\n",
      "Executing 4 of 82...\n",
      "133.7033 20.1083 0.03333333333333333\n"
     ]
    },
    {
     "name": "stderr",
     "output_type": "stream",
     "text": [
      "Execution of psfgen image=/home/aaranda/tfm/obsid/0401060201/images/image_filtered_low.fits withimage=yes instrument=PN level=ELLBETA energy=1000 x=133.7033 y=20.1083 coordtype=EQPOS xsize=481 ysize=481 output=/home/aaranda/tfm/obsid/0401060201/psf_ellbeta_1000_481pix.fits returned 0.\n"
     ]
    },
    {
     "name": "stdout",
     "output_type": "stream",
     "text": [
      "0.175 0.5786001416508443\n",
      "Executing 5 of 82...\n",
      "133.7033 20.1083 0.03333333333333333\n"
     ]
    },
    {
     "name": "stderr",
     "output_type": "stream",
     "text": [
      "Execution of psfgen image=/home/aaranda/tfm/obsid/0502630201/images/image_filtered_low.fits withimage=yes instrument=PN level=ELLBETA energy=1000 x=133.7033 y=20.1083 coordtype=EQPOS xsize=481 ysize=481 output=/home/aaranda/tfm/obsid/0502630201/psf_ellbeta_1000_481pix.fits returned 0.\n"
     ]
    },
    {
     "name": "stdout",
     "output_type": "stream",
     "text": [
      "0.15 0.7659314523482239\n",
      "Executing 6 of 82...\n",
      "133.7033 20.1083 0.03333333333333333\n"
     ]
    },
    {
     "name": "stderr",
     "output_type": "stream",
     "text": [
      "Execution of psfgen image=/home/aaranda/tfm/obsid/0679380701/images/image_filtered_low.fits withimage=yes instrument=PN level=ELLBETA energy=1000 x=133.7033 y=20.1083 coordtype=EQPOS xsize=481 ysize=481 output=/home/aaranda/tfm/obsid/0679380701/psf_ellbeta_1000_481pix.fits returned 0.\n"
     ]
    },
    {
     "name": "stdout",
     "output_type": "stream",
     "text": [
      "0.15 0.7659314523482239\n",
      "Executing 7 of 82...\n",
      "133.7033 20.1083 0.03333333333333333\n"
     ]
    },
    {
     "name": "stderr",
     "output_type": "stream",
     "text": [
      "Execution of psfgen image=/home/aaranda/tfm/obsid/0761500201/images/image_filtered_low.fits withimage=yes instrument=PN level=ELLBETA energy=1000 x=133.7033 y=20.1083 coordtype=EQPOS xsize=481 ysize=481 output=/home/aaranda/tfm/obsid/0761500201/psf_ellbeta_1000_481pix.fits returned 0.\n"
     ]
    },
    {
     "name": "stdout",
     "output_type": "stream",
     "text": [
      "0.125 0.9188052214121167\n",
      "Executing 8 of 82...\n",
      "192.1079 8.5058 0.03333333333333333\n"
     ]
    },
    {
     "name": "stderr",
     "output_type": "stream",
     "text": [
      "Execution of psfgen image=/home/aaranda/tfm/obsid/0651360401/images/image_filtered_low.fits withimage=yes instrument=PN level=ELLBETA energy=1000 x=192.1079 y=8.5058 coordtype=EQPOS xsize=481 ysize=481 output=/home/aaranda/tfm/obsid/0651360401/psf_ellbeta_1000_481pix.fits returned 0.\n"
     ]
    },
    {
     "name": "stdout",
     "output_type": "stream",
     "text": [
      "0.725 1.9492045580662636e-10\n",
      "Executing 9 of 82...\n",
      "11.98 39.8158 0.03333333333333333\n"
     ]
    },
    {
     "name": "stderr",
     "output_type": "stream",
     "text": [
      "Execution of psfgen image=/home/aaranda/tfm/obsid/0800732801/images/image_filtered_low.fits withimage=yes instrument=PN level=ELLBETA energy=1000 x=11.98 y=39.8158 coordtype=EQPOS xsize=481 ysize=481 output=/home/aaranda/tfm/obsid/0800732801/psf_ellbeta_1000_481pix.fits returned 0.\n"
     ]
    },
    {
     "name": "stdout",
     "output_type": "stream",
     "text": [
      "0.325 0.02860307028023343\n",
      "Executing 10 of 82...\n",
      "28.3933 -1.3028 0.03333333333333333\n"
     ]
    },
    {
     "name": "stderr",
     "output_type": "stream",
     "text": [
      "Execution of psfgen image=/home/aaranda/tfm/obsid/0762870401/images/image_filtered_low.fits withimage=yes instrument=PN level=ELLBETA energy=1000 x=28.3933 y=-1.3028 coordtype=EQPOS xsize=481 ysize=481 output=/home/aaranda/tfm/obsid/0762870401/psf_ellbeta_1000_481pix.fits returned 0.\n"
     ]
    },
    {
     "name": "stdout",
     "output_type": "stream",
     "text": [
      "0.775 4.3141348367663775e-12\n",
      "Executing 11 of 82...\n",
      "47.8529 -77.0275 0.03333333333333333\n"
     ]
    },
    {
     "name": "stderr",
     "output_type": "stream",
     "text": [
      "Execution of psfgen image=/home/aaranda/tfm/obsid/0122520201/images/image_filtered_low.fits withimage=yes instrument=PN level=ELLBETA energy=1000 x=47.8529 y=-77.0275 coordtype=EQPOS xsize=481 ysize=481 output=/home/aaranda/tfm/obsid/0122520201/psf_ellbeta_1000_481pix.fits returned 0.\n"
     ]
    },
    {
     "name": "stdout",
     "output_type": "stream",
     "text": [
      "0.375 0.006760732303569208\n",
      "Executing 12 of 82...\n",
      "67.2121 -38.0978 0.03333333333333333\n"
     ]
    },
    {
     "name": "stderr",
     "output_type": "stream",
     "text": [
      "Execution of psfgen image=/home/aaranda/tfm/obsid/0674330201/images/image_filtered_low.fits withimage=yes instrument=PN level=ELLBETA energy=1000 x=67.2121 y=-38.0978 coordtype=EQPOS xsize=481 ysize=481 output=/home/aaranda/tfm/obsid/0674330201/psf_ellbeta_1000_481pix.fits returned 0.\n"
     ]
    },
    {
     "name": "stdout",
     "output_type": "stream",
     "text": [
      "0.275 0.09707484379785862\n",
      "Executing 13 of 82...\n",
      "117.8538 17.5139 0.03333333333333333\n"
     ]
    },
    {
     "name": "stderr",
     "output_type": "stream",
     "text": [
      "Execution of psfgen image=/home/aaranda/tfm/obsid/0653040101/images/image_filtered_low.fits withimage=yes instrument=PN level=ELLBETA energy=1000 x=117.8538 y=17.5139 coordtype=EQPOS xsize=481 ysize=481 output=/home/aaranda/tfm/obsid/0653040101/psf_ellbeta_1000_481pix.fits returned 0.\n"
     ]
    },
    {
     "name": "stdout",
     "output_type": "stream",
     "text": [
      "0.875 4.472261215455704e-16\n",
      "Executing 14 of 82...\n",
      "124.0179 -7.5992 0.03333333333333333\n"
     ]
    },
    {
     "name": "stderr",
     "output_type": "stream",
     "text": [
      "Execution of psfgen image=/home/aaranda/tfm/obsid/0744412401/images/image_filtered_low.fits withimage=yes instrument=PN level=ELLBETA energy=1000 x=124.0179 y=-7.5992 coordtype=EQPOS xsize=481 ysize=481 output=/home/aaranda/tfm/obsid/0744412401/psf_ellbeta_1000_481pix.fits returned 0.\n"
     ]
    },
    {
     "name": "stdout",
     "output_type": "stream",
     "text": [
      "Warning: the central radial bin is masked (zero area) or has zero counts.\n",
      "The first non-zero radial bin is with index 1, bin start at 6.0 arcsec arcsec\n",
      "0.3 0.054141077480362725\n",
      "Executing 15 of 82...\n",
      "134.1604 1.6667 0.03333333333333333\n"
     ]
    },
    {
     "name": "stderr",
     "output_type": "stream",
     "text": [
      "Execution of psfgen image=/home/aaranda/tfm/obsid/0783881001/images/image_filtered_low.fits withimage=yes instrument=PN level=ELLBETA energy=1000 x=134.1604 y=1.6667 coordtype=EQPOS xsize=481 ysize=481 output=/home/aaranda/tfm/obsid/0783881001/psf_ellbeta_1000_481pix.fits returned 0.\n"
     ]
    },
    {
     "name": "stdout",
     "output_type": "stream",
     "text": [
      "0.625 1.2344976480973208e-07\n",
      "Executing 16 of 82...\n",
      "149.6967 65.565 0.03333333333333333\n"
     ]
    },
    {
     "name": "stderr",
     "output_type": "stream",
     "text": [
      "Execution of psfgen image=/home/aaranda/tfm/obsid/0302580401/images/image_filtered_low.fits withimage=yes instrument=PN level=ELLBETA energy=1000 x=149.6967 y=65.565 coordtype=EQPOS xsize=481 ysize=481 output=/home/aaranda/tfm/obsid/0302580401/psf_ellbeta_1000_481pix.fits returned 0.\n"
     ]
    },
    {
     "name": "stdout",
     "output_type": "stream",
     "text": [
      "0.25 0.16497269950224194\n",
      "Executing 17 of 82...\n",
      "149.6967 65.565 0.03333333333333333\n"
     ]
    },
    {
     "name": "stderr",
     "output_type": "stream",
     "text": [
      "Execution of psfgen image=/home/aaranda/tfm/obsid/0502430201/images/image_filtered_low.fits withimage=yes instrument=PN level=ELLBETA energy=1000 x=149.6967 y=65.565 coordtype=EQPOS xsize=481 ysize=481 output=/home/aaranda/tfm/obsid/0502430201/psf_ellbeta_1000_481pix.fits returned 0.\n"
     ]
    },
    {
     "name": "stdout",
     "output_type": "stream",
     "text": [
      "0.275 0.09707484379785862\n",
      "Executing 18 of 82...\n",
      "149.6967 65.565 0.03333333333333333\n"
     ]
    },
    {
     "name": "stderr",
     "output_type": "stream",
     "text": [
      "Execution of psfgen image=/home/aaranda/tfm/obsid/0502430701/images/image_filtered_low.fits withimage=yes instrument=PN level=ELLBETA energy=1000 x=149.6967 y=65.565 coordtype=EQPOS xsize=481 ysize=481 output=/home/aaranda/tfm/obsid/0502430701/psf_ellbeta_1000_481pix.fits returned 0.\n"
     ]
    },
    {
     "name": "stdout",
     "output_type": "stream",
     "text": [
      "0.2 0.404587405685253\n",
      "Executing 19 of 82...\n",
      "184.9404 -3.24 0.03333333333333333\n"
     ]
    },
    {
     "name": "stderr",
     "output_type": "stream",
     "text": [
      "Execution of psfgen image=/home/aaranda/tfm/obsid/0693010401/images/image_filtered_low.fits withimage=yes instrument=PN level=ELLBETA energy=1000 x=184.9404 y=-3.24 coordtype=EQPOS xsize=481 ysize=481 output=/home/aaranda/tfm/obsid/0693010401/psf_ellbeta_1000_481pix.fits returned 0.\n"
     ]
    },
    {
     "name": "stdout",
     "output_type": "stream",
     "text": [
      "0.65 2.8056764729484566e-08\n",
      "Executing 20 of 82...\n",
      "187.8496 14.3569 0.03333333333333333\n"
     ]
    },
    {
     "name": "stderr",
     "output_type": "stream",
     "text": [
      "Execution of psfgen image=/home/aaranda/tfm/obsid/0106060601/images/image_filtered_low.fits withimage=yes instrument=PN level=ELLBETA energy=1000 x=187.8496 y=14.3569 coordtype=EQPOS xsize=481 ysize=481 output=/home/aaranda/tfm/obsid/0106060601/psf_ellbeta_1000_481pix.fits returned 0.\n"
     ]
    },
    {
     "name": "stdout",
     "output_type": "stream",
     "text": [
      "0.225 0.2656871402817289\n",
      "Executing 21 of 82...\n",
      "187.8496 14.3569 0.03333333333333333\n"
     ]
    },
    {
     "name": "stderr",
     "output_type": "stream",
     "text": [
      "Execution of psfgen image=/home/aaranda/tfm/obsid/0112550801/images/image_filtered_low.fits withimage=yes instrument=PN level=ELLBETA energy=1000 x=187.8496 y=14.3569 coordtype=EQPOS xsize=481 ysize=481 output=/home/aaranda/tfm/obsid/0112550801/psf_ellbeta_1000_481pix.fits returned 0.\n"
     ]
    },
    {
     "name": "stdout",
     "output_type": "stream",
     "text": [
      "0.35 0.01430154804770646\n",
      "Executing 22 of 82...\n",
      "192.1079 8.5058 0.03333333333333333\n"
     ]
    },
    {
     "name": "stderr",
     "output_type": "stream",
     "text": [
      "Execution of psfgen image=/home/aaranda/tfm/obsid/0112551101/images/image_filtered_low.fits withimage=yes instrument=PN level=ELLBETA energy=1000 x=192.1079 y=8.5058 coordtype=EQPOS xsize=481 ysize=481 output=/home/aaranda/tfm/obsid/0112551101/psf_ellbeta_1000_481pix.fits returned 0.\n"
     ]
    },
    {
     "name": "stdout",
     "output_type": "stream",
     "text": [
      "0.425 0.0012708143485281624\n",
      "Executing 23 of 82...\n",
      "201.5733 12.5 0.03333333333333333\n"
     ]
    },
    {
     "name": "stderr",
     "output_type": "stream",
     "text": [
      "Execution of psfgen image=/home/aaranda/tfm/obsid/0721890101/images/image_filtered_low.fits withimage=yes instrument=PN level=ELLBETA energy=1000 x=201.5733 y=12.5 coordtype=EQPOS xsize=481 ysize=481 output=/home/aaranda/tfm/obsid/0721890101/psf_ellbeta_1000_481pix.fits returned 0.\n"
     ]
    },
    {
     "name": "stdout",
     "output_type": "stream",
     "text": [
      "0.25 0.16497269950224194\n",
      "Executing 24 of 82...\n",
      "214.1142 23.2564 0.03333333333333333\n"
     ]
    },
    {
     "name": "stderr",
     "output_type": "stream",
     "text": [
      "Execution of psfgen image=/home/aaranda/tfm/obsid/0148250201/images/image_filtered_low.fits withimage=yes instrument=PN level=ELLBETA energy=1000 x=214.1142 y=23.2564 coordtype=EQPOS xsize=481 ysize=481 output=/home/aaranda/tfm/obsid/0148250201/psf_ellbeta_1000_481pix.fits returned 0.\n"
     ]
    },
    {
     "name": "stdout",
     "output_type": "stream",
     "text": [
      "0.775 4.3141348367663775e-12\n",
      "Executing 25 of 82...\n",
      "217.1362 42.6725 0.03333333333333333\n"
     ]
    },
    {
     "name": "stderr",
     "output_type": "stream",
     "text": [
      "Execution of psfgen image=/home/aaranda/tfm/obsid/0300140101/images/image_filtered_low.fits withimage=yes instrument=PN level=ELLBETA energy=1000 x=217.1362 y=42.6725 coordtype=EQPOS xsize=481 ysize=481 output=/home/aaranda/tfm/obsid/0300140101/psf_ellbeta_1000_481pix.fits returned 0.\n"
     ]
    },
    {
     "name": "stdout",
     "output_type": "stream",
     "text": [
      "0.275 0.09707484379785862\n",
      "Executing 26 of 82...\n",
      "227.6712 33.5847 0.03333333333333333\n"
     ]
    },
    {
     "name": "stderr",
     "output_type": "stream",
     "text": [
      "Execution of psfgen image=/home/aaranda/tfm/obsid/0149880101/images/image_filtered_low.fits withimage=yes instrument=PN level=ELLBETA energy=1000 x=227.6712 y=33.5847 coordtype=EQPOS xsize=481 ysize=481 output=/home/aaranda/tfm/obsid/0149880101/psf_ellbeta_1000_481pix.fits returned 0.\n"
     ]
    },
    {
     "name": "stdout",
     "output_type": "stream",
     "text": [
      "0.475 0.00018791118070078278\n",
      "Executing 27 of 82...\n",
      "227.6712 33.5847 0.03333333333333333\n"
     ]
    },
    {
     "name": "stderr",
     "output_type": "stream",
     "text": [
      "Execution of psfgen image=/home/aaranda/tfm/obsid/0303930101/images/image_filtered_low.fits withimage=yes instrument=PN level=ELLBETA energy=1000 x=227.6712 y=33.5847 coordtype=EQPOS xsize=481 ysize=481 output=/home/aaranda/tfm/obsid/0303930101/psf_ellbeta_1000_481pix.fits returned 0.\n"
     ]
    },
    {
     "name": "stdout",
     "output_type": "stream",
     "text": [
      "0.575 1.8880552265017844e-06\n",
      "Executing 28 of 82...\n",
      "6.8629 26.1186 0.03333333333333333\n"
     ]
    },
    {
     "name": "stderr",
     "output_type": "stream",
     "text": [
      "Execution of psfgen image=/home/aaranda/tfm/obsid/0650380201/images/image_filtered_low.fits withimage=yes instrument=PN level=ELLBETA energy=1000 x=6.8629 y=26.1186 coordtype=EQPOS xsize=481 ysize=481 output=/home/aaranda/tfm/obsid/0650380201/psf_ellbeta_1000_481pix.fits returned 0.\n"
     ]
    },
    {
     "name": "stdout",
     "output_type": "stream",
     "text": [
      "Warning: the central radial bin is masked (zero area) or has zero counts.\n",
      "The first non-zero radial bin is with index 1, bin start at 6.0 arcsec arcsec\n",
      "0.55 6.608193292756245e-06\n",
      "Executing 29 of 82...\n",
      "18.7567 -34.0072 0.03333333333333333\n"
     ]
    },
    {
     "name": "stderr",
     "output_type": "stream",
     "text": [
      "Execution of psfgen image=/home/aaranda/tfm/obsid/0693741001/images/image_filtered_low.fits withimage=yes instrument=PN level=ELLBETA energy=1000 x=18.7567 y=-34.0072 coordtype=EQPOS xsize=481 ysize=481 output=/home/aaranda/tfm/obsid/0693741001/psf_ellbeta_1000_481pix.fits returned 0.\n"
     ]
    },
    {
     "name": "stdout",
     "output_type": "stream",
     "text": [
      "0.4 0.003018184077228396\n",
      "Executing 30 of 82...\n",
      "19.7233 -1.0022 0.03333333333333333\n"
     ]
    },
    {
     "name": "stderr",
     "output_type": "stream",
     "text": [
      "Execution of psfgen image=/home/aaranda/tfm/obsid/0153170101/images/image_filtered_low.fits withimage=yes instrument=PN level=ELLBETA energy=1000 x=19.7233 y=-1.0022 coordtype=EQPOS xsize=481 ysize=481 output=/home/aaranda/tfm/obsid/0153170101/psf_ellbeta_1000_481pix.fits returned 0.\n"
     ]
    },
    {
     "name": "stdout",
     "output_type": "stream",
     "text": [
      "0.7 1.1207926208881015e-09\n",
      "Executing 31 of 82...\n",
      "32.1592 35.3869 0.03333333333333333\n"
     ]
    },
    {
     "name": "stderr",
     "output_type": "stream",
     "text": [
      "Execution of psfgen image=/home/aaranda/tfm/obsid/0084140101/images/image_filtered_low.fits withimage=yes instrument=PN level=ELLBETA energy=1000 x=32.1592 y=35.3869 coordtype=EQPOS xsize=481 ysize=481 output=/home/aaranda/tfm/obsid/0084140101/psf_ellbeta_1000_481pix.fits returned 0.\n"
     ]
    },
    {
     "name": "stdout",
     "output_type": "stream",
     "text": [
      "0.175 0.5786001416508443\n",
      "Executing 32 of 82...\n",
      "32.1592 35.3869 0.03333333333333333\n"
     ]
    },
    {
     "name": "stderr",
     "output_type": "stream",
     "text": [
      "Execution of psfgen image=/home/aaranda/tfm/obsid/0084140501/images/image_filtered_low.fits withimage=yes instrument=PN level=ELLBETA energy=1000 x=32.1592 y=35.3869 coordtype=EQPOS xsize=481 ysize=481 output=/home/aaranda/tfm/obsid/0084140501/psf_ellbeta_1000_481pix.fits returned 0.\n"
     ]
    },
    {
     "name": "stdout",
     "output_type": "stream",
     "text": [
      "0.2 0.404587405685253\n",
      "Executing 33 of 82...\n",
      "35.2017 -8.7139 0.03333333333333333\n"
     ]
    },
    {
     "name": "stderr",
     "output_type": "stream",
     "text": [
      "Execution of psfgen image=/home/aaranda/tfm/obsid/0655343842/images/image_filtered_low.fits withimage=yes instrument=PN level=ELLBETA energy=1000 x=35.2017 y=-8.7139 coordtype=EQPOS xsize=481 ysize=481 output=/home/aaranda/tfm/obsid/0655343842/psf_ellbeta_1000_481pix.fits returned 0.\n"
     ]
    },
    {
     "name": "stdout",
     "output_type": "stream",
     "text": [
      "0.45 0.0005039436209702519\n",
      "Executing 34 of 82...\n",
      "35.665 43.0356 0.03333333333333333\n"
     ]
    },
    {
     "name": "stderr",
     "output_type": "stream",
     "text": [
      "Execution of psfgen image=/home/aaranda/tfm/obsid/0002970201/images/image_filtered_low.fits withimage=yes instrument=PN level=ELLBETA energy=1000 x=35.665 y=43.0356 coordtype=EQPOS xsize=481 ysize=481 output=/home/aaranda/tfm/obsid/0002970201/psf_ellbeta_1000_481pix.fits returned 0.\n"
     ]
    },
    {
     "name": "stdout",
     "output_type": "stream",
     "text": [
      "0.225 0.2656871402817289\n",
      "Executing 35 of 82...\n",
      "38.2025 20.2881 0.03333333333333333\n"
     ]
    },
    {
     "name": "stderr",
     "output_type": "stream",
     "text": [
      "Execution of psfgen image=/home/aaranda/tfm/obsid/0604210201/images/image_filtered_low.fits withimage=yes instrument=PN level=ELLBETA energy=1000 x=38.2025 y=20.2881 coordtype=EQPOS xsize=481 ysize=481 output=/home/aaranda/tfm/obsid/0604210201/psf_ellbeta_1000_481pix.fits returned 0.\n"
     ]
    },
    {
     "name": "stdout",
     "output_type": "stream",
     "text": [
      "0.175 0.5786001416508443\n",
      "Executing 36 of 82...\n",
      "38.2025 20.2881 0.03333333333333333\n"
     ]
    },
    {
     "name": "stderr",
     "output_type": "stream",
     "text": [
      "Execution of psfgen image=/home/aaranda/tfm/obsid/0604210301/images/image_filtered_low.fits withimage=yes instrument=PN level=ELLBETA energy=1000 x=38.2025 y=20.2881 coordtype=EQPOS xsize=481 ysize=481 output=/home/aaranda/tfm/obsid/0604210301/psf_ellbeta_1000_481pix.fits returned 0.\n"
     ]
    },
    {
     "name": "stdout",
     "output_type": "stream",
     "text": [
      "0.2 0.404587405685253\n",
      "Executing 37 of 82...\n",
      "43.3154 -1.4014 0.03333333333333333\n"
     ]
    },
    {
     "name": "stderr",
     "output_type": "stream",
     "text": [
      "Execution of psfgen image=/home/aaranda/tfm/obsid/0151490101/images/image_filtered_low.fits withimage=yes instrument=PN level=ELLBETA energy=1000 x=43.3154 y=-1.4014 coordtype=EQPOS xsize=481 ysize=481 output=/home/aaranda/tfm/obsid/0151490101/psf_ellbeta_1000_481pix.fits returned 0.\n"
     ]
    },
    {
     "name": "stdout",
     "output_type": "stream",
     "text": [
      "Warning: the central radial bin is masked (zero area) or has zero counts.\n",
      "The first non-zero radial bin is with index 1, bin start at 6.0 arcsec arcsec\n",
      "0.6 5.015146695395365e-07\n",
      "Executing 38 of 82...\n",
      "65.3879 14.565 0.03333333333333333\n"
     ]
    },
    {
     "name": "stderr",
     "output_type": "stream",
     "text": [
      "Execution of psfgen image=/home/aaranda/tfm/obsid/0785110401/images/image_filtered_low.fits withimage=yes instrument=PN level=ELLBETA energy=1000 x=65.3879 y=14.565 coordtype=EQPOS xsize=481 ysize=481 output=/home/aaranda/tfm/obsid/0785110401/psf_ellbeta_1000_481pix.fits returned 0.\n"
     ]
    },
    {
     "name": "stdout",
     "output_type": "stream",
     "text": [
      "0.75 3.063035734104128e-11\n",
      "Executing 39 of 82...\n",
      "70.3642 15.0822 0.03333333333333333\n"
     ]
    },
    {
     "name": "stderr",
     "output_type": "stream",
     "text": [
      "Execution of psfgen image=/home/aaranda/tfm/obsid/0152900201/images/image_filtered_low.fits withimage=yes instrument=PN level=ELLBETA energy=1000 x=70.3642 y=15.0822 coordtype=EQPOS xsize=481 ysize=481 output=/home/aaranda/tfm/obsid/0152900201/psf_ellbeta_1000_481pix.fits returned 0.\n"
     ]
    },
    {
     "name": "stdout",
     "output_type": "stream",
     "text": [
      "0.175 0.5786001416508443\n",
      "Executing 40 of 82...\n",
      "97.7475 -24.1128 0.03333333333333333\n"
     ]
    },
    {
     "name": "stderr",
     "output_type": "stream",
     "text": [
      "Execution of psfgen image=/home/aaranda/tfm/obsid/0740820401/images/image_filtered_low.fits withimage=yes instrument=PN level=ELLBETA energy=1000 x=97.7475 y=-24.1128 coordtype=EQPOS xsize=481 ysize=481 output=/home/aaranda/tfm/obsid/0740820401/psf_ellbeta_1000_481pix.fits returned 0.\n"
     ]
    },
    {
     "name": "stdout",
     "output_type": "stream",
     "text": [
      "0.25 0.16497269950224194\n",
      "Executing 41 of 82...\n",
      "116.0212 74.5664 0.03333333333333333\n"
     ]
    },
    {
     "name": "stderr",
     "output_type": "stream",
     "text": [
      "Execution of psfgen image=/home/aaranda/tfm/obsid/0123100101/images/image_filtered_low.fits withimage=yes instrument=PN level=ELLBETA energy=1000 x=116.0212 y=74.5664 coordtype=EQPOS xsize=481 ysize=481 output=/home/aaranda/tfm/obsid/0123100101/psf_ellbeta_1000_481pix.fits returned 0.\n"
     ]
    },
    {
     "name": "stdout",
     "output_type": "stream",
     "text": [
      "0.225 0.2656871402817289\n",
      "Executing 42 of 82...\n",
      "116.0212 74.5664 0.03333333333333333\n"
     ]
    },
    {
     "name": "stderr",
     "output_type": "stream",
     "text": [
      "Execution of psfgen image=/home/aaranda/tfm/obsid/0123100201/images/image_filtered_low.fits withimage=yes instrument=PN level=ELLBETA energy=1000 x=116.0212 y=74.5664 coordtype=EQPOS xsize=481 ysize=481 output=/home/aaranda/tfm/obsid/0123100201/psf_ellbeta_1000_481pix.fits returned 0.\n"
     ]
    },
    {
     "name": "stdout",
     "output_type": "stream",
     "text": [
      "0.15 0.7659314523482239\n",
      "Executing 43 of 82...\n",
      "118.6546 39.1797 0.03333333333333333\n"
     ]
    },
    {
     "name": "stderr",
     "output_type": "stream",
     "text": [
      "Execution of psfgen image=/home/aaranda/tfm/obsid/0670040101/images/image_filtered_low.fits withimage=yes instrument=PN level=ELLBETA energy=1000 x=118.6546 y=39.1797 coordtype=EQPOS xsize=481 ysize=481 output=/home/aaranda/tfm/obsid/0670040101/psf_ellbeta_1000_481pix.fits returned 0.\n"
     ]
    },
    {
     "name": "stdout",
     "output_type": "stream",
     "text": [
      "0.475 0.00018791118070078278\n",
      "Executing 44 of 82...\n",
      "118.3525 29.3586 0.03333333333333333\n"
     ]
    },
    {
     "name": "stderr",
     "output_type": "stream",
     "text": [
      "Execution of psfgen image=/home/aaranda/tfm/obsid/0761112401/images/image_filtered_low.fits withimage=yes instrument=PN level=ELLBETA energy=1000 x=118.3525 y=29.3586 coordtype=EQPOS xsize=481 ysize=481 output=/home/aaranda/tfm/obsid/0761112401/psf_ellbeta_1000_481pix.fits returned 0.\n"
     ]
    },
    {
     "name": "stdout",
     "output_type": "stream",
     "text": [
      "0.85 5.5903265193196304e-15\n",
      "Executing 45 of 82...\n",
      "129.8779 18.0464 0.03333333333333333\n"
     ]
    },
    {
     "name": "stderr",
     "output_type": "stream",
     "text": [
      "Execution of psfgen image=/home/aaranda/tfm/obsid/0803240801/images/image_filtered_low.fits withimage=yes instrument=PN level=ELLBETA energy=1000 x=129.8779 y=18.0464 coordtype=EQPOS xsize=481 ysize=481 output=/home/aaranda/tfm/obsid/0803240801/psf_ellbeta_1000_481pix.fits returned 0.\n"
     ]
    },
    {
     "name": "stdout",
     "output_type": "stream",
     "text": [
      "0.4 0.003018184077228396\n",
      "Executing 46 of 82...\n",
      "133.7033 20.1083 0.03333333333333333\n"
     ]
    },
    {
     "name": "stderr",
     "output_type": "stream",
     "text": [
      "Execution of psfgen image=/home/aaranda/tfm/obsid/0830190501/images/image_filtered_low.fits withimage=yes instrument=PN level=ELLBETA energy=1000 x=133.7033 y=20.1083 coordtype=EQPOS xsize=481 ysize=481 output=/home/aaranda/tfm/obsid/0830190501/psf_ellbeta_1000_481pix.fits returned 0.\n"
     ]
    },
    {
     "name": "stdout",
     "output_type": "stream",
     "text": [
      "0.225 0.2656871402817289\n",
      "Executing 47 of 82...\n",
      "138.9683 29.5567 0.03333333333333333\n"
     ]
    },
    {
     "name": "stderr",
     "output_type": "stream",
     "text": [
      "Execution of psfgen image=/home/aaranda/tfm/obsid/0303820301/images/image_filtered_low.fits withimage=yes instrument=PN level=ELLBETA energy=1000 x=138.9683 y=29.5567 coordtype=EQPOS xsize=481 ysize=481 output=/home/aaranda/tfm/obsid/0303820301/psf_ellbeta_1000_481pix.fits returned 0.\n"
     ]
    },
    {
     "name": "stdout",
     "output_type": "stream",
     "text": [
      "0.225 0.2656871402817289\n",
      "Executing 48 of 82...\n",
      "159.6912 39.4597 0.03333333333333333\n"
     ]
    },
    {
     "name": "stderr",
     "output_type": "stream",
     "text": [
      "Execution of psfgen image=/home/aaranda/tfm/obsid/0783520201/images/image_filtered_low.fits withimage=yes instrument=PN level=ELLBETA energy=1000 x=159.6912 y=39.4597 coordtype=EQPOS xsize=481 ysize=481 output=/home/aaranda/tfm/obsid/0783520201/psf_ellbeta_1000_481pix.fits returned 0.\n"
     ]
    },
    {
     "name": "stdout",
     "output_type": "stream",
     "text": [
      "0.675 5.862607555414685e-09\n",
      "Executing 49 of 82...\n",
      "162.24 50.1625 0.03333333333333333\n"
     ]
    },
    {
     "name": "stderr",
     "output_type": "stream",
     "text": [
      "Execution of psfgen image=/home/aaranda/tfm/obsid/0652810201/images/image_filtered_low.fits withimage=yes instrument=PN level=ELLBETA energy=1000 x=162.24 y=50.1625 coordtype=EQPOS xsize=481 ysize=481 output=/home/aaranda/tfm/obsid/0652810201/psf_ellbeta_1000_481pix.fits returned 0.\n"
     ]
    },
    {
     "name": "stdout",
     "output_type": "stream",
     "text": [
      "0.225 0.2656871402817289\n",
      "Executing 50 of 82...\n",
      "164.3892 -77.4081 0.03333333333333333\n"
     ]
    },
    {
     "name": "stderr",
     "output_type": "stream",
     "text": [
      "Execution of psfgen image=/home/aaranda/tfm/obsid/0152460301/images/image_filtered_low.fits withimage=yes instrument=PN level=ELLBETA energy=1000 x=164.3892 y=-77.4081 coordtype=EQPOS xsize=481 ysize=481 output=/home/aaranda/tfm/obsid/0152460301/psf_ellbeta_1000_481pix.fits returned 0.\n"
     ]
    },
    {
     "name": "stdout",
     "output_type": "stream",
     "text": [
      "0.75 3.063035734104128e-11\n",
      "Executing 51 of 82...\n",
      "172.6887 0.9292 0.03333333333333333\n"
     ]
    },
    {
     "name": "stderr",
     "output_type": "stream",
     "text": [
      "Execution of psfgen image=/home/aaranda/tfm/obsid/0305750601/images/image_filtered_low.fits withimage=yes instrument=PN level=ELLBETA energy=1000 x=172.6887 y=0.9292 coordtype=EQPOS xsize=481 ysize=481 output=/home/aaranda/tfm/obsid/0305750601/psf_ellbeta_1000_481pix.fits returned 0.\n"
     ]
    },
    {
     "name": "stdout",
     "output_type": "stream",
     "text": [
      "Warning: the central radial bin is masked (zero area) or has zero counts.\n",
      "The first non-zero radial bin is with index 1, bin start at 6.0 arcsec arcsec\n",
      "0.55 6.608193292756245e-06\n",
      "Executing 52 of 82...\n",
      "175.4721 2.3233 0.03333333333333333\n"
     ]
    },
    {
     "name": "stderr",
     "output_type": "stream",
     "text": [
      "Execution of psfgen image=/home/aaranda/tfm/obsid/0551750301/images/image_filtered_low.fits withimage=yes instrument=PN level=ELLBETA energy=1000 x=175.4721 y=2.3233 coordtype=EQPOS xsize=481 ysize=481 output=/home/aaranda/tfm/obsid/0551750301/psf_ellbeta_1000_481pix.fits returned 0.\n"
     ]
    },
    {
     "name": "stdout",
     "output_type": "stream",
     "text": [
      "0.475 0.00018791118070078278\n",
      "Executing 53 of 82...\n",
      "180.9804 58.3292 0.03333333333333333\n"
     ]
    },
    {
     "name": "stderr",
     "output_type": "stream",
     "text": [
      "Execution of psfgen image=/home/aaranda/tfm/obsid/0600920201/images/image_filtered_low.fits withimage=yes instrument=PN level=ELLBETA energy=1000 x=180.9804 y=58.3292 coordtype=EQPOS xsize=481 ysize=481 output=/home/aaranda/tfm/obsid/0600920201/psf_ellbeta_1000_481pix.fits returned 0.\n"
     ]
    },
    {
     "name": "stdout",
     "output_type": "stream",
     "text": [
      "0.375 0.006760732303569208\n",
      "Executing 54 of 82...\n",
      "182.6108 39.4856 0.03333333333333333\n"
     ]
    },
    {
     "name": "stderr",
     "output_type": "stream",
     "text": [
      "Execution of psfgen image=/home/aaranda/tfm/obsid/0112830201/images/image_filtered_low.fits withimage=yes instrument=PN level=ELLBETA energy=1000 x=182.6108 y=39.4856 coordtype=EQPOS xsize=481 ysize=481 output=/home/aaranda/tfm/obsid/0112830201/psf_ellbeta_1000_481pix.fits returned 0.\n"
     ]
    },
    {
     "name": "stdout",
     "output_type": "stream",
     "text": [
      "0.5 6.5768913245274e-05\n",
      "Executing 55 of 82...\n",
      "182.6108 39.4856 0.03333333333333333\n"
     ]
    },
    {
     "name": "stderr",
     "output_type": "stream",
     "text": [
      "Execution of psfgen image=/home/aaranda/tfm/obsid/0112830501/images/image_filtered_low.fits withimage=yes instrument=PN level=ELLBETA energy=1000 x=182.6108 y=39.4856 coordtype=EQPOS xsize=481 ysize=481 output=/home/aaranda/tfm/obsid/0112830501/psf_ellbeta_1000_481pix.fits returned 0.\n"
     ]
    },
    {
     "name": "stdout",
     "output_type": "stream",
     "text": [
      "0.4 0.003018184077228396\n",
      "Executing 56 of 82...\n",
      "185.3821 28.2328 0.03333333333333333\n"
     ]
    },
    {
     "name": "stderr",
     "output_type": "stream",
     "text": [
      "Execution of psfgen image=/home/aaranda/tfm/obsid/0104860501/images/image_filtered_low.fits withimage=yes instrument=PN level=ELLBETA energy=1000 x=185.3821 y=28.2328 coordtype=EQPOS xsize=481 ysize=481 output=/home/aaranda/tfm/obsid/0104860501/psf_ellbeta_1000_481pix.fits returned 0.\n"
     ]
    },
    {
     "name": "stdout",
     "output_type": "stream",
     "text": [
      "0.175 0.5786001416508443\n",
      "Executing 57 of 82...\n",
      "187.8804 64.2383 0.03333333333333333\n"
     ]
    },
    {
     "name": "stderr",
     "output_type": "stream",
     "text": [
      "Execution of psfgen image=/home/aaranda/tfm/obsid/0124900101/images/image_filtered_low.fits withimage=yes instrument=PN level=ELLBETA energy=1000 x=187.8804 y=64.2383 coordtype=EQPOS xsize=481 ysize=481 output=/home/aaranda/tfm/obsid/0124900101/psf_ellbeta_1000_481pix.fits returned 0.\n"
     ]
    },
    {
     "name": "stdout",
     "output_type": "stream",
     "text": [
      "0.225 0.2656871402817289\n",
      "Executing 58 of 82...\n",
      "187.885 1.6372 0.03333333333333333\n"
     ]
    },
    {
     "name": "stderr",
     "output_type": "stream",
     "text": [
      "Execution of psfgen image=/home/aaranda/tfm/obsid/0692510101/images/image_filtered_low.fits withimage=yes instrument=PN level=ELLBETA energy=1000 x=187.885 y=1.6372 coordtype=EQPOS xsize=481 ysize=481 output=/home/aaranda/tfm/obsid/0692510101/psf_ellbeta_1000_481pix.fits returned 0.\n"
     ]
    },
    {
     "name": "stdout",
     "output_type": "stream",
     "text": [
      "0.35 0.01430154804770646\n",
      "Executing 59 of 82...\n",
      "188.7958 -14.0561 0.03333333333333333\n"
     ]
    },
    {
     "name": "stderr",
     "output_type": "stream",
     "text": [
      "Execution of psfgen image=/home/aaranda/tfm/obsid/0604830201/images/image_filtered_low.fits withimage=yes instrument=PN level=ELLBETA energy=1000 x=188.7958 y=-14.0561 coordtype=EQPOS xsize=481 ysize=481 output=/home/aaranda/tfm/obsid/0604830201/psf_ellbeta_1000_481pix.fits returned 0.\n"
     ]
    },
    {
     "name": "stdout",
     "output_type": "stream",
     "text": [
      "0.525 2.156357811320459e-05\n",
      "Executing 60 of 82...\n",
      "202.6108 24.2558 0.03333333333333333\n"
     ]
    },
    {
     "name": "stderr",
     "output_type": "stream",
     "text": [
      "Execution of psfgen image=/home/aaranda/tfm/obsid/0100240101/images/image_filtered_low.fits withimage=yes instrument=PN level=ELLBETA energy=1000 x=202.6108 y=24.2558 coordtype=EQPOS xsize=481 ysize=481 output=/home/aaranda/tfm/obsid/0100240101/psf_ellbeta_1000_481pix.fits returned 0.\n"
     ]
    },
    {
     "name": "stdout",
     "output_type": "stream",
     "text": [
      "0.725 1.9492045580662636e-10\n",
      "Executing 61 of 82...\n",
      "202.6108 24.2558 0.03333333333333333\n"
     ]
    },
    {
     "name": "stderr",
     "output_type": "stream",
     "text": [
      "Execution of psfgen image=/home/aaranda/tfm/obsid/0100240201/images/image_filtered_low.fits withimage=yes instrument=PN level=ELLBETA energy=1000 x=202.6108 y=24.2558 coordtype=EQPOS xsize=481 ysize=481 output=/home/aaranda/tfm/obsid/0100240201/psf_ellbeta_1000_481pix.fits returned 0.\n"
     ]
    },
    {
     "name": "stdout",
     "output_type": "stream",
     "text": [
      "0.675 5.862607555414685e-09\n",
      "Executing 62 of 82...\n",
      "211.6783 53.1425 0.03333333333333333\n"
     ]
    },
    {
     "name": "stderr",
     "output_type": "stream",
     "text": [
      "Execution of psfgen image=/home/aaranda/tfm/obsid/0804272701/images/image_filtered_low.fits withimage=yes instrument=PN level=ELLBETA energy=1000 x=211.6783 y=53.1425 coordtype=EQPOS xsize=481 ysize=481 output=/home/aaranda/tfm/obsid/0804272701/psf_ellbeta_1000_481pix.fits returned 0.\n"
     ]
    },
    {
     "name": "stdout",
     "output_type": "stream",
     "text": [
      "0.25 0.16497269950224194\n",
      "Executing 63 of 82...\n",
      "214.1142 23.2564 0.03333333333333333\n"
     ]
    },
    {
     "name": "stderr",
     "output_type": "stream",
     "text": [
      "Execution of psfgen image=/home/aaranda/tfm/obsid/0722140101/images/image_filtered_low.fits withimage=yes instrument=PN level=ELLBETA energy=1000 x=214.1142 y=23.2564 coordtype=EQPOS xsize=481 ysize=481 output=/home/aaranda/tfm/obsid/0722140101/psf_ellbeta_1000_481pix.fits returned 0.\n"
     ]
    },
    {
     "name": "stdout",
     "output_type": "stream",
     "text": [
      "0.875 4.472261215455704e-16\n",
      "Executing 64 of 82...\n",
      "214.1142 23.2564 0.03333333333333333\n"
     ]
    },
    {
     "name": "stderr",
     "output_type": "stream",
     "text": [
      "Execution of psfgen image=/home/aaranda/tfm/obsid/0722140401/images/image_filtered_low.fits withimage=yes instrument=PN level=ELLBETA energy=1000 x=214.1142 y=23.2564 coordtype=EQPOS xsize=481 ysize=481 output=/home/aaranda/tfm/obsid/0722140401/psf_ellbeta_1000_481pix.fits returned 0.\n"
     ]
    },
    {
     "name": "stdout",
     "output_type": "stream",
     "text": [
      "0.825 5.909773748995038e-14\n",
      "Executing 65 of 82...\n",
      "216.7571 -1.3861 0.03333333333333333\n"
     ]
    },
    {
     "name": "stderr",
     "output_type": "stream",
     "text": [
      "Execution of psfgen image=/home/aaranda/tfm/obsid/0800270601/images/image_filtered_low.fits withimage=yes instrument=PN level=ELLBETA energy=1000 x=216.7571 y=-1.3861 coordtype=EQPOS xsize=481 ysize=481 output=/home/aaranda/tfm/obsid/0800270601/psf_ellbeta_1000_481pix.fits returned 0.\n"
     ]
    },
    {
     "name": "stdout",
     "output_type": "stream",
     "text": [
      "0.575 1.8880552265017844e-06\n",
      "Executing 66 of 82...\n",
      "238.9296 11.19 0.03333333333333333\n"
     ]
    },
    {
     "name": "stderr",
     "output_type": "stream",
     "text": [
      "Execution of psfgen image=/home/aaranda/tfm/obsid/0790380501/images/image_filtered_low.fits withimage=yes instrument=PN level=ELLBETA energy=1000 x=238.9296 y=11.19 coordtype=EQPOS xsize=481 ysize=481 output=/home/aaranda/tfm/obsid/0790380501/psf_ellbeta_1000_481pix.fits returned 0.\n"
     ]
    },
    {
     "name": "stdout",
     "output_type": "stream",
     "text": [
      "0.15 0.7659314523482239\n",
      "Executing 67 of 82...\n",
      "238.9296 11.19 0.03333333333333333\n"
     ]
    },
    {
     "name": "stderr",
     "output_type": "stream",
     "text": [
      "Execution of psfgen image=/home/aaranda/tfm/obsid/0790380601/images/image_filtered_low.fits withimage=yes instrument=PN level=ELLBETA energy=1000 x=238.9296 y=11.19 coordtype=EQPOS xsize=481 ysize=481 output=/home/aaranda/tfm/obsid/0790380601/psf_ellbeta_1000_481pix.fits returned 0.\n"
     ]
    },
    {
     "name": "stdout",
     "output_type": "stream",
     "text": [
      "0.175 0.5786001416508443\n",
      "Executing 68 of 82...\n",
      "238.9296 11.19 0.03333333333333333\n"
     ]
    },
    {
     "name": "stderr",
     "output_type": "stream",
     "text": [
      "Execution of psfgen image=/home/aaranda/tfm/obsid/0790380801/images/image_filtered_low.fits withimage=yes instrument=PN level=ELLBETA energy=1000 x=238.9296 y=11.19 coordtype=EQPOS xsize=481 ysize=481 output=/home/aaranda/tfm/obsid/0790380801/psf_ellbeta_1000_481pix.fits returned 0.\n"
     ]
    },
    {
     "name": "stdout",
     "output_type": "stream",
     "text": [
      "0.2 0.404587405685253\n",
      "Executing 69 of 82...\n",
      "238.9296 11.19 0.03333333333333333\n"
     ]
    },
    {
     "name": "stderr",
     "output_type": "stream",
     "text": [
      "Execution of psfgen image=/home/aaranda/tfm/obsid/0790381401/images/image_filtered_low.fits withimage=yes instrument=PN level=ELLBETA energy=1000 x=238.9296 y=11.19 coordtype=EQPOS xsize=481 ysize=481 output=/home/aaranda/tfm/obsid/0790381401/psf_ellbeta_1000_481pix.fits returned 0.\n"
     ]
    },
    {
     "name": "stdout",
     "output_type": "stream",
     "text": [
      "0.15 0.7659314523482239\n",
      "Executing 70 of 82...\n",
      "238.9296 11.19 0.03333333333333333\n"
     ]
    },
    {
     "name": "stderr",
     "output_type": "stream",
     "text": [
      "Execution of psfgen image=/home/aaranda/tfm/obsid/0790381501/images/image_filtered_low.fits withimage=yes instrument=PN level=ELLBETA energy=1000 x=238.9296 y=11.19 coordtype=EQPOS xsize=481 ysize=481 output=/home/aaranda/tfm/obsid/0790381501/psf_ellbeta_1000_481pix.fits returned 0.\n"
     ]
    },
    {
     "name": "stdout",
     "output_type": "stream",
     "text": [
      "0.175 0.5786001416508443\n",
      "Executing 71 of 82...\n",
      "238.9296 11.19 0.03333333333333333\n"
     ]
    },
    {
     "name": "stderr",
     "output_type": "stream",
     "text": [
      "Execution of psfgen image=/home/aaranda/tfm/obsid/0790380901/images/image_filtered_low.fits withimage=yes instrument=PN level=ELLBETA energy=1000 x=238.9296 y=11.19 coordtype=EQPOS xsize=481 ysize=481 output=/home/aaranda/tfm/obsid/0790380901/psf_ellbeta_1000_481pix.fits returned 0.\n"
     ]
    },
    {
     "name": "stdout",
     "output_type": "stream",
     "text": [
      "0.125 0.9188052214121167\n",
      "Executing 72 of 82...\n",
      "238.9296 11.19 0.03333333333333333\n"
     ]
    },
    {
     "name": "stderr",
     "output_type": "stream",
     "text": [
      "Execution of psfgen image=/home/aaranda/tfm/obsid/0761100101/images/image_filtered_low.fits withimage=yes instrument=PN level=ELLBETA energy=1000 x=238.9296 y=11.19 coordtype=EQPOS xsize=481 ysize=481 output=/home/aaranda/tfm/obsid/0761100101/psf_ellbeta_1000_481pix.fits returned 0.\n"
     ]
    },
    {
     "name": "stdout",
     "output_type": "stream",
     "text": [
      "0.175 0.5786001416508443\n",
      "Executing 73 of 82...\n",
      "238.9296 11.19 0.03333333333333333\n"
     ]
    },
    {
     "name": "stderr",
     "output_type": "stream",
     "text": [
      "Execution of psfgen image=/home/aaranda/tfm/obsid/0761100201/images/image_filtered_low.fits withimage=yes instrument=PN level=ELLBETA energy=1000 x=238.9296 y=11.19 coordtype=EQPOS xsize=481 ysize=481 output=/home/aaranda/tfm/obsid/0761100201/psf_ellbeta_1000_481pix.fits returned 0.\n"
     ]
    },
    {
     "name": "stdout",
     "output_type": "stream",
     "text": [
      "0.175 0.5786001416508443\n",
      "Executing 74 of 82...\n",
      "238.9296 11.19 0.03333333333333333\n"
     ]
    },
    {
     "name": "stderr",
     "output_type": "stream",
     "text": [
      "Execution of psfgen image=/home/aaranda/tfm/obsid/0761100301/images/image_filtered_low.fits withimage=yes instrument=PN level=ELLBETA energy=1000 x=238.9296 y=11.19 coordtype=EQPOS xsize=481 ysize=481 output=/home/aaranda/tfm/obsid/0761100301/psf_ellbeta_1000_481pix.fits returned 0.\n"
     ]
    },
    {
     "name": "stdout",
     "output_type": "stream",
     "text": [
      "0.175 0.5786001416508443\n",
      "Executing 75 of 82...\n",
      "238.9296 11.19 0.03333333333333333\n"
     ]
    },
    {
     "name": "stderr",
     "output_type": "stream",
     "text": [
      "Execution of psfgen image=/home/aaranda/tfm/obsid/0761100401/images/image_filtered_low.fits withimage=yes instrument=PN level=ELLBETA energy=1000 x=238.9296 y=11.19 coordtype=EQPOS xsize=481 ysize=481 output=/home/aaranda/tfm/obsid/0761100401/psf_ellbeta_1000_481pix.fits returned 0.\n"
     ]
    },
    {
     "name": "stdout",
     "output_type": "stream",
     "text": [
      "0.15 0.7659314523482239\n",
      "Executing 76 of 82...\n",
      "238.9296 11.19 0.03333333333333333\n"
     ]
    },
    {
     "name": "stderr",
     "output_type": "stream",
     "text": [
      "Execution of psfgen image=/home/aaranda/tfm/obsid/0761101001/images/image_filtered_low.fits withimage=yes instrument=PN level=ELLBETA energy=1000 x=238.9296 y=11.19 coordtype=EQPOS xsize=481 ysize=481 output=/home/aaranda/tfm/obsid/0761101001/psf_ellbeta_1000_481pix.fits returned 0.\n"
     ]
    },
    {
     "name": "stdout",
     "output_type": "stream",
     "text": [
      "0.15 0.7659314523482239\n",
      "Executing 77 of 82...\n",
      "303.8696 37.1833 0.03333333333333333\n"
     ]
    },
    {
     "name": "stderr",
     "output_type": "stream",
     "text": [
      "Execution of psfgen image=/home/aaranda/tfm/obsid/0744640101/images/image_filtered_low.fits withimage=yes instrument=PN level=ELLBETA energy=1000 x=303.8696 y=37.1833 coordtype=EQPOS xsize=481 ysize=481 output=/home/aaranda/tfm/obsid/0744640101/psf_ellbeta_1000_481pix.fits returned 0.\n"
     ]
    },
    {
     "name": "stdout",
     "output_type": "stream",
     "text": [
      "0.4 0.003018184077228396\n",
      "Executing 78 of 82...\n",
      "324.8504 -42.5892 0.03333333333333333\n"
     ]
    },
    {
     "name": "stderr",
     "output_type": "stream",
     "text": [
      "Execution of psfgen image=/home/aaranda/tfm/obsid/0553561101/images/image_filtered_low.fits withimage=yes instrument=PN level=ELLBETA energy=1000 x=324.8504 y=-42.5892 coordtype=EQPOS xsize=481 ysize=481 output=/home/aaranda/tfm/obsid/0553561101/psf_ellbeta_1000_481pix.fits returned 0.\n"
     ]
    },
    {
     "name": "stdout",
     "output_type": "stream",
     "text": [
      "0.375 0.006760732303569208\n",
      "Executing 79 of 82...\n",
      "332.785 -0.0506 0.03333333333333333\n"
     ]
    },
    {
     "name": "stderr",
     "output_type": "stream",
     "text": [
      "Execution of psfgen image=/home/aaranda/tfm/obsid/0655346840/images/image_filtered_low.fits withimage=yes instrument=PN level=ELLBETA energy=1000 x=332.785 y=-0.0506 coordtype=EQPOS xsize=481 ysize=481 output=/home/aaranda/tfm/obsid/0655346840/psf_ellbeta_1000_481pix.fits returned 0.\n"
     ]
    },
    {
     "name": "stdout",
     "output_type": "stream",
     "text": [
      "0.275 0.09707484379785862\n",
      "Executing 80 of 82...\n",
      "333.735 0.3331 0.03333333333333333\n"
     ]
    },
    {
     "name": "stderr",
     "output_type": "stream",
     "text": [
      "Execution of psfgen image=/home/aaranda/tfm/obsid/0673000136/images/image_filtered_low.fits withimage=yes instrument=PN level=ELLBETA energy=1000 x=333.735 y=0.3331 coordtype=EQPOS xsize=481 ysize=481 output=/home/aaranda/tfm/obsid/0673000136/psf_ellbeta_1000_481pix.fits returned 0.\n"
     ]
    },
    {
     "name": "stdout",
     "output_type": "stream",
     "text": [
      "0.5 6.5768913245274e-05\n",
      "Executing 81 of 82...\n",
      "349.7742 -42.1136 0.03333333333333333\n"
     ]
    },
    {
     "name": "stderr",
     "output_type": "stream",
     "text": [
      "Execution of psfgen image=/home/aaranda/tfm/obsid/0405380701/images/image_filtered_low.fits withimage=yes instrument=PN level=ELLBETA energy=1000 x=349.7742 y=-42.1136 coordtype=EQPOS xsize=481 ysize=481 output=/home/aaranda/tfm/obsid/0405380701/psf_ellbeta_1000_481pix.fits returned 0.\n"
     ]
    },
    {
     "name": "stdout",
     "output_type": "stream",
     "text": [
      "0.175 0.5786001416508443\n",
      "Executing 82 of 82...\n",
      "349.9308 16.1975 0.03333333333333333\n"
     ]
    },
    {
     "name": "stderr",
     "output_type": "stream",
     "text": [
      "Execution of psfgen image=/home/aaranda/tfm/obsid/0782350501/images/image_filtered_low.fits withimage=yes instrument=PN level=ELLBETA energy=1000 x=349.9308 y=16.1975 coordtype=EQPOS xsize=481 ysize=481 output=/home/aaranda/tfm/obsid/0782350501/psf_ellbeta_1000_481pix.fits returned 0.\n"
     ]
    },
    {
     "name": "stdout",
     "output_type": "stream",
     "text": [
      "0.325 0.02860307028023343\n",
      "[]\n"
     ]
    }
   ],
   "source": [
    "# Good obsid_lits extracter from find_valid_targets.py\n",
    "obsid_list = ['0142270101', '0300480201', '0300480301', '0401060201', '0502630201', '0679380701', '0761500201',\n",
    "              '0651360401', '0800732801', '0762870401', '0122520201', '0674330201', '0653040101', '0744412401',\n",
    "              '0783881001', '0302580401', '0502430201', '0502430701', '0693010401', '0106060601', '0112550801',\n",
    "              '0112551101', '0721890101', '0148250201', '0300140101', '0149880101', '0303930101', '0650380201',\n",
    "              '0693741001', '0153170101', '0084140101', '0084140501', '0655343842', '0002970201', '0604210201',\n",
    "              '0604210301', '0151490101', '0785110401', '0152900201', '0740820401', '0123100101', '0123100201',\n",
    "              '0670040101', '0761112401', '0803240801', '0830190501', '0303820301', '0783520201', '0652810201',\n",
    "              '0152460301', '0305750601', '0551750301', '0600920201', '0112830201', '0112830501', '0104860501',\n",
    "              '0124900101', '0692510101', '0604830201', '0100240101', '0100240201', '0804272701', '0722140101',\n",
    "              '0722140401', '0800270601', '0790380501', '0790380601', '0790380801', '0790381401', '0790381501',\n",
    "              '0790380901', '0761100101', '0761100201', '0761100301', '0761100401', '0761101001', '0744640101',\n",
    "              '0553561101', '0655346840', '0673000136', '0405380701', '0782350501']\n",
    "\n",
    "\n",
    "wdir = \"/home/aaranda/tfm/obsid\"\n",
    "\n",
    "bll_catalog = fits.open('/home/aaranda/tfm/bllacs_PN_NopileupNofasttiming.fits')\n",
    "data = bll_catalog[1].data\n",
    "\n",
    "bin_size = 80\n",
    "pi = [500, 2000, 4500, 10000]\n",
    "\n",
    "error_obsid = []\n",
    "count = 1\n",
    "# obsid_list = ['0830190501']\n",
    "for obsid in obsid_list:\n",
    "\n",
    "    try:\n",
    "\n",
    "        # Find target name\n",
    "        for row in data:\n",
    "            if row[5] == obsid:\n",
    "                target = row[0]\n",
    "\n",
    "        print(\"Executing {} of {}...\".format(count, len(obsid_list)))\n",
    "        count += 1\n",
    "        odf_dir = \"{}/{}\".format(wdir, obsid)\n",
    "\n",
    "        os.chdir(odf_dir)\n",
    "        cif_file = \"{}/ccf.cif\".format(odf_dir)\n",
    "        os.environ['SAS_CCF'] = cif_file\n",
    "        SUM_SAS_file = glob.glob(\"*SUM.SAS\")[0]\n",
    "        os.environ['SAS_ODF'] = SUM_SAS_file\n",
    "\n",
    "        coords = get_coords(odf_dir)\n",
    "        center = SkyCoord(coords[0], coords[1], unit=(u.deg, u.deg), frame='icrs')\n",
    "        r_start = 0.0 * u.arcsec\n",
    "        r_end = 4.0 * u.arcmin\n",
    "        r_step = 6.0 * u.arcsec\n",
    "\n",
    "        detmask_file = '{}/detfile_low.fits'.format(odf_dir)\n",
    "        det = fits.open(detmask_file)\n",
    "        detmask = det['MASK']\n",
    "        wcs_det = WCS(detmask.header)\n",
    "\n",
    "        fits_image = '{}/images/image_filtered_low.fits'.format(odf_dir)\n",
    "\n",
    "\n",
    "\n",
    "        (x, y, yerr) = calc_radial_profile(fits_image, center, r_start, r_end, r_step, verbose=False,\n",
    "                                           detmaskfile=detmask_file, plot=False)\n",
    "\n",
    "        \n",
    "        \n",
    "        energy = 1000  # at 1 keV\n",
    "        box = 2 * int(r_end.to(u.arcsec).value) + 1\n",
    "        psf_out = '{}/psf_ellbeta_{}_{}pix.fits'.format(odf_dir, energy, box)\n",
    "        psf_gen(center, energy, box, psf_out)\n",
    "\n",
    "        (psf_mid, psf_counts, psf_counts_err) = \\\n",
    "            calc_radial_profile(psf_out, center, r_start, r_end, r_step, verbose=False, detmaskfile=None, plot=False)\n",
    "\n",
    "        #\n",
    "        # normalise the source\n",
    "        #\n",
    "        jnorm = next((i for i, yy in enumerate(y) if (yy > 0.0)), None)\n",
    "        #\n",
    "        if (jnorm > 0):\n",
    "            print(\"Warning: the central radial bin is masked (zero area) or has zero counts.\")\n",
    "            print(\n",
    "                f\"The first non-zero radial bin is with index {jnorm}, bin start at {r_start + r_step * jnorm} arcsec\")\n",
    "        norm_counts = y / y[jnorm]\n",
    "        norm_counts_err = yerr / y[jnorm]\n",
    "        back = np.mean(norm_counts[-3:])  # the mean of the last 3 radial points\n",
    "        #\n",
    "        # and normalise the PSF\n",
    "        #\n",
    "        norm_psf_counts = psf_counts / psf_counts[jnorm]\n",
    "        #\n",
    "        \n",
    "        result = stats.ks_2samp(norm_psf_counts + back, norm_counts)\n",
    "        print(result[0], result[1])\n",
    "        \n",
    "        \n",
    "        with open('/home/aaranda/tfm/kolmorogov_low.csv', mode='a') as csv_file:\n",
    "            csv_file = csv.writer(csv_file, delimiter=',', quotechar='\"', quoting=csv.QUOTE_MINIMAL)\n",
    "            csv_file.writerow([obsid, result[0], result[1]])\n",
    "        \n",
    "    except:\n",
    "        error_obsid.append(obsid)\n",
    "        print(\"Error ocurred with obsid: {}\".format(obsid))\n",
    "        pass\n",
    "\n",
    "print(error_obsid)"
   ]
  }
 ],
 "metadata": {
  "kernelspec": {
   "display_name": "Python 3",
   "language": "python",
   "name": "python3"
  },
  "language_info": {
   "codemirror_mode": {
    "name": "ipython",
    "version": 3
   },
   "file_extension": ".py",
   "mimetype": "text/x-python",
   "name": "python",
   "nbconvert_exporter": "python",
   "pygments_lexer": "ipython3",
   "version": "3.7.3"
  }
 },
 "nbformat": 4,
 "nbformat_minor": 4
}
